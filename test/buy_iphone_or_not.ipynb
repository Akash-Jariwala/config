{
 "cells": [
  {
   "cell_type": "code",
   "execution_count": 3,
   "id": "c6dffbb2",
   "metadata": {},
   "outputs": [],
   "source": [
    "import pandas as pd\n",
    "import numpy as np"
   ]
  },
  {
   "cell_type": "code",
   "execution_count": 4,
   "id": "6b73e920",
   "metadata": {},
   "outputs": [],
   "source": [
    "dataset = pd.read_csv('buy_iphone.csv')"
   ]
  },
  {
   "cell_type": "code",
   "execution_count": 5,
   "id": "dab02fba",
   "metadata": {},
   "outputs": [],
   "source": [
    "x = dataset.iloc[:,0:3]\n",
    "y = dataset.iloc[:,3]"
   ]
  },
  {
   "cell_type": "markdown",
   "id": "e52079d6",
   "metadata": {},
   "source": [
    "**NOTE: Here in order to predict the result. We have two possibilities\n",
    "1. To get the answer without pickle, we have to pass 'one_hot_encoded_x' in classifier.fit().\n",
    "\n",
    "2. To get the o/p with pipeline,, we will use 'make_column_transform()',hence in classifier.fit(), we will pass 'x_train' as "
   ]
  },
  {
   "cell_type": "code",
   "execution_count": 6,
   "id": "db821289",
   "metadata": {},
   "outputs": [],
   "source": [
    "# one_hot_encoded_x = pd.get_dummies(x, columns = ['Gender'])\n",
    "# print(one_hot_encoded_x)"
   ]
  },
  {
   "cell_type": "markdown",
   "id": "7bbff2db",
   "metadata": {},
   "source": [
    "**Splitting dataset into train and test**"
   ]
  },
  {
   "cell_type": "code",
   "execution_count": 7,
   "id": "d30a5cea",
   "metadata": {},
   "outputs": [],
   "source": [
    "# splitting dataset into train and test\n",
    "from sklearn.model_selection import train_test_split\n",
    "x_train,x_test,y_train,y_test = train_test_split(x,y,test_size=0.2,random_state=0) "
   ]
  },
  {
   "cell_type": "code",
   "execution_count": 8,
   "id": "749b6efa",
   "metadata": {},
   "outputs": [],
   "source": [
    "from sklearn.preprocessing import OneHotEncoder\n",
    "ohe = OneHotEncoder()"
   ]
  },
  {
   "cell_type": "code",
   "execution_count": 9,
   "id": "73b506f3",
   "metadata": {},
   "outputs": [],
   "source": [
    "from sklearn.compose import make_column_transformer\n",
    "column_trans_2 = make_column_transformer(\n",
    "(ohe,['Gender']),\n",
    "remainder='passthrough')"
   ]
  },
  {
   "cell_type": "markdown",
   "id": "37479cf4",
   "metadata": {},
   "source": [
    "**Applying Random Forest Classification.**"
   ]
  },
  {
   "cell_type": "code",
   "execution_count": 10,
   "id": "79d303a3",
   "metadata": {},
   "outputs": [],
   "source": [
    "from sklearn.ensemble import RandomForestClassifier"
   ]
  },
  {
   "cell_type": "code",
   "execution_count": 11,
   "id": "9c2aacd4",
   "metadata": {},
   "outputs": [],
   "source": [
    "classifier = RandomForestClassifier(n_estimators=10,criterion='entropy',random_state=0)\n",
    "# classifier.fit(x_train,y_train)"
   ]
  },
  {
   "cell_type": "code",
   "execution_count": 10,
   "id": "49305735",
   "metadata": {},
   "outputs": [],
   "source": [
    "# y_pred=classifier.predict(x_test)\n",
    "# y_pred"
   ]
  },
  {
   "cell_type": "code",
   "execution_count": 11,
   "id": "8fc07b03",
   "metadata": {},
   "outputs": [],
   "source": [
    "# # computing accuracy in terms of 'confusion matrix'\n",
    "# from sklearn import metrics\n",
    "# cm = metrics.confusion_matrix(y_pred,y_test)\n",
    "# cm"
   ]
  },
  {
   "cell_type": "code",
   "execution_count": 12,
   "id": "3bf86a52",
   "metadata": {},
   "outputs": [],
   "source": [
    "# accuracy = metrics.accuracy_score(y_pred,y_test)"
   ]
  },
  {
   "cell_type": "code",
   "execution_count": 13,
   "id": "71fe6536",
   "metadata": {},
   "outputs": [],
   "source": [
    "# y_pred"
   ]
  },
  {
   "cell_type": "markdown",
   "id": "3d1f43bb",
   "metadata": {},
   "source": [
    "**creating model using pickle**"
   ]
  },
  {
   "cell_type": "code",
   "execution_count": 14,
   "id": "4619c2a5",
   "metadata": {},
   "outputs": [],
   "source": [
    "from sklearn.pipeline import make_pipeline"
   ]
  },
  {
   "cell_type": "code",
   "execution_count": 15,
   "id": "341a04d3",
   "metadata": {},
   "outputs": [],
   "source": [
    "pipe = make_pipeline(column_trans_2,classifier)"
   ]
  },
  {
   "cell_type": "code",
   "execution_count": 16,
   "id": "68e8eafe",
   "metadata": {},
   "outputs": [
    {
     "data": {
      "text/plain": [
       "array([0, 0, 0, 0, 0, 0, 0, 1, 0, 1, 0, 0, 0, 0, 0, 1, 0, 0, 1, 0, 0, 1,\n",
       "       0, 1, 0, 1, 0, 0, 0, 0, 0, 0, 1, 0, 0, 0, 0, 0, 0, 1, 0, 0, 0, 0,\n",
       "       0, 0, 0, 1, 0, 1, 1, 0, 0, 1, 0, 1, 0, 0, 1, 0, 0, 1, 0, 1, 0, 1,\n",
       "       0, 0, 0, 0, 1, 0, 0, 1, 0, 0, 1, 0, 1, 1], dtype=int64)"
      ]
     },
     "execution_count": 16,
     "metadata": {},
     "output_type": "execute_result"
    }
   ],
   "source": [
    "pipe.fit(x_train,y_train)\n",
    "pipe.predict(x_test)"
   ]
  },
  {
   "cell_type": "markdown",
   "id": "795f6870",
   "metadata": {},
   "source": [
    "**Dumping The PipeLine**"
   ]
  },
  {
   "cell_type": "code",
   "execution_count": 17,
   "id": "200ab316",
   "metadata": {},
   "outputs": [],
   "source": [
    "import pickle"
   ]
  },
  {
   "cell_type": "code",
   "execution_count": 18,
   "id": "d9f7c669",
   "metadata": {},
   "outputs": [],
   "source": [
    "pickle.dump(pipe,open('buy-iphone-or-not.pkl','wb'))"
   ]
  },
  {
   "cell_type": "code",
   "execution_count": 19,
   "id": "63f5a338",
   "metadata": {},
   "outputs": [
    {
     "name": "stdout",
     "output_type": "stream",
     "text": [
      "Will NOT Buy\n"
     ]
    }
   ],
   "source": [
    "prediction = pipe.predict(pd.DataFrame([['Female',10,130000]],columns=['Gender','Age','Salary']))\n",
    "if prediction[0] == 0:\n",
    "    print(\"Will NOT Buy\")\n",
    "else:\n",
    "    print(\"Will BUY\")"
   ]
  },
  {
   "cell_type": "code",
   "execution_count": 20,
   "id": "2119aacf",
   "metadata": {},
   "outputs": [
    {
     "data": {
      "text/plain": [
       "['Female', 'Male']"
      ]
     },
     "execution_count": 20,
     "metadata": {},
     "output_type": "execute_result"
    }
   ],
   "source": [
    "sorted(dataset.Gender.unique())"
   ]
  },
  {
   "cell_type": "code",
   "execution_count": 23,
   "id": "1f5f793e",
   "metadata": {},
   "outputs": [
    {
     "data": {
      "text/plain": [
       "[18,\n",
       " 19,\n",
       " 20,\n",
       " 21,\n",
       " 22,\n",
       " 23,\n",
       " 24,\n",
       " 25,\n",
       " 26,\n",
       " 27,\n",
       " 28,\n",
       " 29,\n",
       " 30,\n",
       " 31,\n",
       " 32,\n",
       " 33,\n",
       " 34,\n",
       " 35,\n",
       " 36,\n",
       " 37,\n",
       " 38,\n",
       " 39,\n",
       " 40,\n",
       " 41,\n",
       " 42,\n",
       " 43,\n",
       " 44,\n",
       " 45,\n",
       " 46,\n",
       " 47,\n",
       " 48,\n",
       " 49,\n",
       " 50,\n",
       " 51,\n",
       " 52,\n",
       " 53,\n",
       " 54,\n",
       " 55,\n",
       " 56,\n",
       " 57,\n",
       " 58,\n",
       " 59,\n",
       " 60]"
      ]
     },
     "execution_count": 23,
     "metadata": {},
     "output_type": "execute_result"
    }
   ],
   "source": [
    "sorted(dataset.Age.unique())"
   ]
  },
  {
   "cell_type": "code",
   "execution_count": null,
   "id": "44e29ee6",
   "metadata": {},
   "outputs": [],
   "source": []
  }
 ],
 "metadata": {
  "kernelspec": {
   "display_name": "Python 3",
   "language": "python",
   "name": "python3"
  },
  "language_info": {
   "codemirror_mode": {
    "name": "ipython",
    "version": 3
   },
   "file_extension": ".py",
   "mimetype": "text/x-python",
   "name": "python",
   "nbconvert_exporter": "python",
   "pygments_lexer": "ipython3",
   "version": "3.8.8"
  }
 },
 "nbformat": 4,
 "nbformat_minor": 5
}
