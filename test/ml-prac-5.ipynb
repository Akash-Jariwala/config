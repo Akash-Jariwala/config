{
 "cells": [
  {
   "cell_type": "code",
   "execution_count": 2,
   "metadata": {
    "colab": {},
    "colab_type": "code",
    "id": "MxkJoQBkUIHC"
   },
   "outputs": [],
   "source": [
    "import numpy as np\n",
    "import pandas as pd\n",
    "import tensorflow as tf"
   ]
  },
  {
   "cell_type": "markdown",
   "metadata": {
    "colab_type": "text",
    "id": "1E0Q3aoKUCRX"
   },
   "source": [
    "# Data Preprocessing"
   ]
  },
  {
   "cell_type": "code",
   "execution_count": 3,
   "metadata": {
    "colab": {},
    "colab_type": "code",
    "id": "MXUkhkMfU4wq"
   },
   "outputs": [],
   "source": [
    "dataset = pd.read_csv('Churn_Modelling.csv')\n",
    "X = dataset.iloc[:, 3:-1].values\n",
    "y = dataset.iloc[:, -1].values"
   ]
  },
  {
   "cell_type": "markdown",
   "metadata": {
    "colab_type": "text",
    "id": "N6bQ0UgSU-NJ"
   },
   "source": [
    "### Encoding categorical data"
   ]
  },
  {
   "cell_type": "markdown",
   "metadata": {
    "colab_type": "text",
    "id": "le5MJreAbW52"
   },
   "source": [
    "Label Encoding the \"Gender\" column"
   ]
  },
  {
   "cell_type": "code",
   "execution_count": 4,
   "metadata": {
    "colab": {},
    "colab_type": "code",
    "id": "PxVKWXxLbczC"
   },
   "outputs": [],
   "source": [
    "from sklearn.preprocessing import LabelEncoder\n",
    "le = LabelEncoder()\n",
    "X[:, 2] = le.fit_transform(X[:, 2])"
   ]
  },
  {
   "cell_type": "code",
   "execution_count": 5,
   "metadata": {
    "colab": {
     "base_uri": "https://localhost:8080/",
     "height": 134
    },
    "colab_type": "code",
    "executionInfo": {
     "elapsed": 2775,
     "status": "ok",
     "timestamp": 1586428376542,
     "user": {
      "displayName": "Hadelin de Ponteves",
      "photoUrl": "https://lh3.googleusercontent.com/a-/AOh14GhEuXdT7eQweUmRPW8_laJuPggSK6hfvpl5a6WBaA=s64",
      "userId": "15047218817161520419"
     },
     "user_tz": -240
    },
    "id": "-M1KboxFb6OO",
    "outputId": "c7b742e2-7afb-4fb9-c6b4-ffeb3c4812f1"
   },
   "outputs": [
    {
     "name": "stdout",
     "output_type": "stream",
     "text": [
      "[[619 'France' 0 ... 1 1 101348.88]\n",
      " [608 'Spain' 0 ... 0 1 112542.58]\n",
      " [502 'France' 0 ... 1 0 113931.57]\n",
      " ...\n",
      " [709 'France' 0 ... 0 1 42085.58]\n",
      " [772 'Germany' 1 ... 1 0 92888.52]\n",
      " [792 'France' 0 ... 1 0 38190.78]]\n"
     ]
    }
   ],
   "source": [
    "print(X)"
   ]
  },
  {
   "cell_type": "markdown",
   "metadata": {
    "colab_type": "text",
    "id": "CUxGZezpbMcb"
   },
   "source": [
    "One Hot Encoding the \"Geography\" column"
   ]
  },
  {
   "cell_type": "code",
   "execution_count": 6,
   "metadata": {
    "colab": {},
    "colab_type": "code",
    "id": "AMXC8-KMVirw"
   },
   "outputs": [],
   "source": [
    "from sklearn.compose import ColumnTransformer\n",
    "from sklearn.preprocessing import OneHotEncoder\n",
    "ct = ColumnTransformer(transformers=[('encoder', OneHotEncoder(), [1])], remainder='passthrough')\n",
    "X = np.array(ct.fit_transform(X))"
   ]
  },
  {
   "cell_type": "code",
   "execution_count": 7,
   "metadata": {
    "colab": {
     "base_uri": "https://localhost:8080/",
     "height": 134
    },
    "colab_type": "code",
    "executionInfo": {
     "elapsed": 2768,
     "status": "ok",
     "timestamp": 1586428376543,
     "user": {
      "displayName": "Hadelin de Ponteves",
      "photoUrl": "https://lh3.googleusercontent.com/a-/AOh14GhEuXdT7eQweUmRPW8_laJuPggSK6hfvpl5a6WBaA=s64",
      "userId": "15047218817161520419"
     },
     "user_tz": -240
    },
    "id": "ZcxwEon-b8nV",
    "outputId": "9c88c069-f799-4e3b-be4b-24d8e17611fd"
   },
   "outputs": [
    {
     "name": "stdout",
     "output_type": "stream",
     "text": [
      "[[1.0 0.0 0.0 ... 1 1 101348.88]\n",
      " [0.0 0.0 1.0 ... 0 1 112542.58]\n",
      " [1.0 0.0 0.0 ... 1 0 113931.57]\n",
      " ...\n",
      " [1.0 0.0 0.0 ... 0 1 42085.58]\n",
      " [0.0 1.0 0.0 ... 1 0 92888.52]\n",
      " [1.0 0.0 0.0 ... 1 0 38190.78]]\n"
     ]
    }
   ],
   "source": [
    "print(X)"
   ]
  },
  {
   "cell_type": "markdown",
   "metadata": {
    "colab_type": "text",
    "id": "RE_FcHyfV3TQ"
   },
   "source": [
    "### Feature Scaling"
   ]
  },
  {
   "cell_type": "code",
   "execution_count": 8,
   "metadata": {
    "colab": {},
    "colab_type": "code",
    "id": "ViCrE00rV8Sk"
   },
   "outputs": [],
   "source": [
    "from sklearn.preprocessing import StandardScaler\n",
    "sc = StandardScaler()\n",
    "X = sc.fit_transform(X)"
   ]
  },
  {
   "cell_type": "code",
   "execution_count": 9,
   "metadata": {
    "colab": {
     "base_uri": "https://localhost:8080/",
     "height": 235
    },
    "colab_type": "code",
    "executionInfo": {
     "elapsed": 2760,
     "status": "ok",
     "timestamp": 1586428376544,
     "user": {
      "displayName": "Hadelin de Ponteves",
      "photoUrl": "https://lh3.googleusercontent.com/a-/AOh14GhEuXdT7eQweUmRPW8_laJuPggSK6hfvpl5a6WBaA=s64",
      "userId": "15047218817161520419"
     },
     "user_tz": -240
    },
    "id": "De3UsJwXdfMz",
    "outputId": "dde0e114-7250-42b5-d54d-047faebba5e1"
   },
   "outputs": [
    {
     "name": "stdout",
     "output_type": "stream",
     "text": [
      "[[ 0.99720391 -0.57873591 -0.57380915 ...  0.64609167  0.97024255\n",
      "   0.02188649]\n",
      " [-1.00280393 -0.57873591  1.74273971 ... -1.54776799  0.97024255\n",
      "   0.21653375]\n",
      " [ 0.99720391 -0.57873591 -0.57380915 ...  0.64609167 -1.03067011\n",
      "   0.2406869 ]\n",
      " ...\n",
      " [ 0.99720391 -0.57873591 -0.57380915 ... -1.54776799  0.97024255\n",
      "  -1.00864308]\n",
      " [-1.00280393  1.72790383 -0.57380915 ...  0.64609167 -1.03067011\n",
      "  -0.12523071]\n",
      " [ 0.99720391 -0.57873591 -0.57380915 ...  0.64609167 -1.03067011\n",
      "  -1.07636976]]\n"
     ]
    }
   ],
   "source": [
    "print(X)"
   ]
  },
  {
   "cell_type": "markdown",
   "metadata": {
    "colab_type": "text",
    "id": "vHol938cW8zd"
   },
   "source": [
    "### Splitting the dataset into the Training set and Test set"
   ]
  },
  {
   "cell_type": "code",
   "execution_count": 10,
   "metadata": {
    "colab": {},
    "colab_type": "code",
    "id": "Z-TDt0Y_XEfc"
   },
   "outputs": [],
   "source": [
    "from sklearn.model_selection import train_test_split\n",
    "X_train, X_test, y_train, y_test = train_test_split(X, y, test_size = 0.2, random_state = 0)"
   ]
  },
  {
   "cell_type": "markdown",
   "metadata": {
    "colab_type": "text",
    "id": "-zfEzkRVXIwF"
   },
   "source": [
    "# Implement ANN using ReLU function"
   ]
  },
  {
   "cell_type": "markdown",
   "metadata": {
    "colab_type": "text",
    "id": "KvdeScabXtlB"
   },
   "source": [
    "### Initializing the ANN"
   ]
  },
  {
   "cell_type": "code",
   "execution_count": 12,
   "metadata": {
    "colab": {},
    "colab_type": "code",
    "id": "3dtrScHxXQox"
   },
   "outputs": [],
   "source": [
    "ann = tf.keras.models.Sequential()"
   ]
  },
  {
   "cell_type": "markdown",
   "metadata": {
    "colab_type": "text",
    "id": "rP6urV6SX7kS"
   },
   "source": [
    "### Adding the input layer and the first hidden layer"
   ]
  },
  {
   "cell_type": "code",
   "execution_count": 13,
   "metadata": {
    "colab": {},
    "colab_type": "code",
    "id": "bppGycBXYCQr"
   },
   "outputs": [],
   "source": [
    "ann.add(tf.keras.layers.Dense(units=6, activation='relu'))"
   ]
  },
  {
   "cell_type": "markdown",
   "metadata": {
    "colab_type": "text",
    "id": "BELWAc_8YJze"
   },
   "source": [
    "### Adding the second hidden layer"
   ]
  },
  {
   "cell_type": "code",
   "execution_count": 14,
   "metadata": {
    "colab": {},
    "colab_type": "code",
    "id": "JneR0u0sYRTd"
   },
   "outputs": [],
   "source": [
    "ann.add(tf.keras.layers.Dense(units=6, activation='relu'))"
   ]
  },
  {
   "cell_type": "markdown",
   "metadata": {
    "colab_type": "text",
    "id": "OyNEe6RXYcU4"
   },
   "source": [
    "### Adding the output layer"
   ]
  },
  {
   "cell_type": "code",
   "execution_count": 15,
   "metadata": {
    "colab": {},
    "colab_type": "code",
    "id": "Cn3x41RBYfvY"
   },
   "outputs": [],
   "source": [
    "ann.add(tf.keras.layers.Dense(units=1, activation='sigmoid'))"
   ]
  },
  {
   "cell_type": "markdown",
   "metadata": {
    "colab_type": "text",
    "id": "JT4u2S1_Y4WG"
   },
   "source": [
    "## Training the ANN"
   ]
  },
  {
   "cell_type": "markdown",
   "metadata": {
    "colab_type": "text",
    "id": "8GWlJChhY_ZI"
   },
   "source": [
    "### Compiling the ANN"
   ]
  },
  {
   "cell_type": "code",
   "execution_count": 16,
   "metadata": {
    "colab": {},
    "colab_type": "code",
    "id": "fG3RrwDXZEaS"
   },
   "outputs": [],
   "source": [
    "ann.compile(optimizer = 'adam', loss = 'binary_crossentropy', metrics = ['accuracy'])"
   ]
  },
  {
   "cell_type": "markdown",
   "metadata": {
    "colab_type": "text",
    "id": "0QR_G5u7ZLSM"
   },
   "source": [
    "### Training the ANN on the Training set"
   ]
  },
  {
   "cell_type": "code",
   "execution_count": 17,
   "metadata": {
    "colab": {
     "base_uri": "https://localhost:8080/",
     "height": 1000
    },
    "colab_type": "code",
    "executionInfo": {
     "elapsed": 31750,
     "status": "ok",
     "timestamp": 1586428405580,
     "user": {
      "displayName": "Hadelin de Ponteves",
      "photoUrl": "https://lh3.googleusercontent.com/a-/AOh14GhEuXdT7eQweUmRPW8_laJuPggSK6hfvpl5a6WBaA=s64",
      "userId": "15047218817161520419"
     },
     "user_tz": -240
    },
    "id": "nHZ-LKv_ZRb3",
    "outputId": "6a90f176-803d-4b03-e65f-c05bda6f519c"
   },
   "outputs": [
    {
     "name": "stdout",
     "output_type": "stream",
     "text": [
      "Epoch 1/100\n",
      "250/250 [==============================] - 1s 3ms/step - loss: 0.5173 - accuracy: 0.7944\n",
      "Epoch 2/100\n",
      "250/250 [==============================] - 1s 3ms/step - loss: 0.4648 - accuracy: 0.8006\n",
      "Epoch 3/100\n",
      "250/250 [==============================] - 1s 3ms/step - loss: 0.4448 - accuracy: 0.8049\n",
      "Epoch 4/100\n",
      "250/250 [==============================] - 1s 3ms/step - loss: 0.4349 - accuracy: 0.8074\n",
      "Epoch 5/100\n",
      "250/250 [==============================] - 1s 3ms/step - loss: 0.4289 - accuracy: 0.8121\n",
      "Epoch 6/100\n",
      "250/250 [==============================] - 1s 3ms/step - loss: 0.4246 - accuracy: 0.8134: 0s - loss: 0.4254 - accuracy: \n",
      "Epoch 7/100\n",
      "250/250 [==============================] - 1s 3ms/step - loss: 0.4220 - accuracy: 0.8148\n",
      "Epoch 8/100\n",
      "250/250 [==============================] - 1s 4ms/step - loss: 0.4193 - accuracy: 0.8173\n",
      "Epoch 9/100\n",
      "250/250 [==============================] - 1s 3ms/step - loss: 0.4168 - accuracy: 0.8165\n",
      "Epoch 10/100\n",
      "250/250 [==============================] - 1s 5ms/step - loss: 0.4141 - accuracy: 0.8181\n",
      "Epoch 11/100\n",
      "250/250 [==============================] - 1s 3ms/step - loss: 0.4111 - accuracy: 0.8185: 0s - loss: 0\n",
      "Epoch 12/100\n",
      "250/250 [==============================] - 1s 4ms/step - loss: 0.4074 - accuracy: 0.8185\n",
      "Epoch 13/100\n",
      "250/250 [==============================] - 1s 4ms/step - loss: 0.4027 - accuracy: 0.8189: 0s - loss: 0\n",
      "Epoch 14/100\n",
      "250/250 [==============================] - 1s 4ms/step - loss: 0.3976 - accuracy: 0.8201\n",
      "Epoch 15/100\n",
      "250/250 [==============================] - 1s 3ms/step - loss: 0.3921 - accuracy: 0.8231: 0s - loss: 0.3962 - \n",
      "Epoch 16/100\n",
      "250/250 [==============================] - 1s 4ms/step - loss: 0.3868 - accuracy: 0.8259\n",
      "Epoch 17/100\n",
      "250/250 [==============================] - 1s 4ms/step - loss: 0.3827 - accuracy: 0.8314\n",
      "Epoch 18/100\n",
      "250/250 [==============================] - 1s 3ms/step - loss: 0.3778 - accuracy: 0.8382\n",
      "Epoch 19/100\n",
      "250/250 [==============================] - 1s 3ms/step - loss: 0.3741 - accuracy: 0.8400\n",
      "Epoch 20/100\n",
      "250/250 [==============================] - 1s 3ms/step - loss: 0.3698 - accuracy: 0.8425\n",
      "Epoch 21/100\n",
      "250/250 [==============================] - 1s 3ms/step - loss: 0.3660 - accuracy: 0.8450\n",
      "Epoch 22/100\n",
      "250/250 [==============================] - 1s 3ms/step - loss: 0.3632 - accuracy: 0.8459\n",
      "Epoch 23/100\n",
      "250/250 [==============================] - 1s 3ms/step - loss: 0.3605 - accuracy: 0.8475\n",
      "Epoch 24/100\n",
      "250/250 [==============================] - 1s 3ms/step - loss: 0.3589 - accuracy: 0.8496\n",
      "Epoch 25/100\n",
      "250/250 [==============================] - 1s 3ms/step - loss: 0.3575 - accuracy: 0.8499: 0s - loss: 0.3561 - \n",
      "Epoch 26/100\n",
      "250/250 [==============================] - 1s 3ms/step - loss: 0.3563 - accuracy: 0.8500\n",
      "Epoch 27/100\n",
      "250/250 [==============================] - 1s 3ms/step - loss: 0.3551 - accuracy: 0.8510\n",
      "Epoch 28/100\n",
      "250/250 [==============================] - 1s 3ms/step - loss: 0.3536 - accuracy: 0.8519\n",
      "Epoch 29/100\n",
      "250/250 [==============================] - 1s 3ms/step - loss: 0.3529 - accuracy: 0.8526\n",
      "Epoch 30/100\n",
      "250/250 [==============================] - 1s 3ms/step - loss: 0.3520 - accuracy: 0.8549\n",
      "Epoch 31/100\n",
      "250/250 [==============================] - 1s 4ms/step - loss: 0.3511 - accuracy: 0.8518\n",
      "Epoch 32/100\n",
      "250/250 [==============================] - 1s 4ms/step - loss: 0.3504 - accuracy: 0.8549\n",
      "Epoch 33/100\n",
      "250/250 [==============================] - 1s 4ms/step - loss: 0.3496 - accuracy: 0.8556\n",
      "Epoch 34/100\n",
      "250/250 [==============================] - 1s 4ms/step - loss: 0.3489 - accuracy: 0.8558\n",
      "Epoch 35/100\n",
      "250/250 [==============================] - 1s 4ms/step - loss: 0.3482 - accuracy: 0.8550\n",
      "Epoch 36/100\n",
      "250/250 [==============================] - 1s 4ms/step - loss: 0.3474 - accuracy: 0.8568\n",
      "Epoch 37/100\n",
      "250/250 [==============================] - 1s 3ms/step - loss: 0.3470 - accuracy: 0.8570\n",
      "Epoch 38/100\n",
      "250/250 [==============================] - 1s 3ms/step - loss: 0.3459 - accuracy: 0.8558\n",
      "Epoch 39/100\n",
      "250/250 [==============================] - 1s 3ms/step - loss: 0.3453 - accuracy: 0.8591\n",
      "Epoch 40/100\n",
      "250/250 [==============================] - 1s 3ms/step - loss: 0.3444 - accuracy: 0.8594\n",
      "Epoch 41/100\n",
      "250/250 [==============================] - 1s 4ms/step - loss: 0.3442 - accuracy: 0.8595\n",
      "Epoch 42/100\n",
      "250/250 [==============================] - 1s 4ms/step - loss: 0.3435 - accuracy: 0.8591\n",
      "Epoch 43/100\n",
      "250/250 [==============================] - 1s 3ms/step - loss: 0.3430 - accuracy: 0.8594\n",
      "Epoch 44/100\n",
      "250/250 [==============================] - 1s 3ms/step - loss: 0.3421 - accuracy: 0.8612\n",
      "Epoch 45/100\n",
      "250/250 [==============================] - 1s 4ms/step - loss: 0.3418 - accuracy: 0.8621: 0s - loss: 0.3400 - accuracy:  - ETA: 0s - loss: 0.3410 - accuracy: 0.86\n",
      "Epoch 46/100\n",
      "250/250 [==============================] - 1s 3ms/step - loss: 0.3413 - accuracy: 0.8608\n",
      "Epoch 47/100\n",
      "250/250 [==============================] - 1s 3ms/step - loss: 0.3408 - accuracy: 0.8604\n",
      "Epoch 48/100\n",
      "250/250 [==============================] - 1s 4ms/step - loss: 0.3403 - accuracy: 0.8589: 0s - loss: 0 - ETA: 0s - loss: 0.3417 - accura\n",
      "Epoch 49/100\n",
      "250/250 [==============================] - 1s 4ms/step - loss: 0.3395 - accuracy: 0.8612\n",
      "Epoch 50/100\n",
      "250/250 [==============================] - 1s 3ms/step - loss: 0.3398 - accuracy: 0.8608\n",
      "Epoch 51/100\n",
      "250/250 [==============================] - 1s 3ms/step - loss: 0.3391 - accuracy: 0.8596\n",
      "Epoch 52/100\n",
      "250/250 [==============================] - 1s 3ms/step - loss: 0.3388 - accuracy: 0.8612\n",
      "Epoch 53/100\n",
      "250/250 [==============================] - ETA: 0s - loss: 0.3395 - accuracy: 0.86 - 1s 3ms/step - loss: 0.3383 - accuracy: 0.8612\n",
      "Epoch 54/100\n",
      "250/250 [==============================] - 1s 4ms/step - loss: 0.3384 - accuracy: 0.8605: 0s - loss: 0.3321 - accuracy: 0.86 - ETA: 0s - loss: 0.3300 - ac\n",
      "Epoch 55/100\n",
      "250/250 [==============================] - 1s 5ms/step - loss: 0.3378 - accuracy: 0.8624\n",
      "Epoch 56/100\n",
      "250/250 [==============================] - 1s 5ms/step - loss: 0.3375 - accuracy: 0.8610\n",
      "Epoch 57/100\n",
      "250/250 [==============================] - 1s 4ms/step - loss: 0.3371 - accuracy: 0.8619: 0s - loss: 0.3258 - \n",
      "Epoch 58/100\n",
      "250/250 [==============================] - 1s 4ms/step - loss: 0.3373 - accuracy: 0.8612\n",
      "Epoch 59/100\n",
      "250/250 [==============================] - 1s 4ms/step - loss: 0.3370 - accuracy: 0.8612: 0s - loss: 0.3308 - ac\n",
      "Epoch 60/100\n",
      "250/250 [==============================] - 1s 4ms/step - loss: 0.3366 - accuracy: 0.8614\n",
      "Epoch 61/100\n",
      "250/250 [==============================] - 1s 4ms/step - loss: 0.3364 - accuracy: 0.8619\n",
      "Epoch 62/100\n",
      "250/250 [==============================] - 1s 4ms/step - loss: 0.3361 - accuracy: 0.8624: 0s - loss: 0.3378 - accuracy: 0.86\n",
      "Epoch 63/100\n",
      "250/250 [==============================] - 1s 4ms/step - loss: 0.3360 - accuracy: 0.8631\n",
      "Epoch 64/100\n",
      "250/250 [==============================] - 1s 4ms/step - loss: 0.3359 - accuracy: 0.8619\n",
      "Epoch 65/100\n",
      "250/250 [==============================] - 1s 4ms/step - loss: 0.3354 - accuracy: 0.8631: 0s - loss: 0.3368 - accuracy: 0.\n",
      "Epoch 66/100\n",
      "250/250 [==============================] - 1s 4ms/step - loss: 0.3352 - accuracy: 0.8621\n",
      "Epoch 67/100\n",
      "250/250 [==============================] - 1s 4ms/step - loss: 0.3347 - accuracy: 0.8615\n",
      "Epoch 68/100\n",
      "250/250 [==============================] - 1s 4ms/step - loss: 0.3348 - accuracy: 0.8622\n",
      "Epoch 69/100\n",
      "250/250 [==============================] - 1s 4ms/step - loss: 0.3344 - accuracy: 0.8619\n",
      "Epoch 70/100\n",
      "250/250 [==============================] - 1s 4ms/step - loss: 0.3343 - accuracy: 0.8616\n",
      "Epoch 71/100\n",
      "250/250 [==============================] - 1s 4ms/step - loss: 0.3346 - accuracy: 0.8631\n",
      "Epoch 72/100\n",
      "250/250 [==============================] - 1s 4ms/step - loss: 0.3337 - accuracy: 0.8610: 0s - loss: 0.3323 - accuracy: \n",
      "Epoch 73/100\n",
      "250/250 [==============================] - 1s 4ms/step - loss: 0.3339 - accuracy: 0.8626: 0s - loss: 0.344\n",
      "Epoch 74/100\n",
      "250/250 [==============================] - 1s 4ms/step - loss: 0.3341 - accuracy: 0.8622\n",
      "Epoch 75/100\n",
      "250/250 [==============================] - 1s 4ms/step - loss: 0.3338 - accuracy: 0.8630: 0s -\n",
      "Epoch 76/100\n"
     ]
    },
    {
     "name": "stdout",
     "output_type": "stream",
     "text": [
      "250/250 [==============================] - 1s 4ms/step - loss: 0.3336 - accuracy: 0.8616\n",
      "Epoch 77/100\n",
      "250/250 [==============================] - 1s 3ms/step - loss: 0.3337 - accuracy: 0.8626: 0s - loss: 0.3228 - ac\n",
      "Epoch 78/100\n",
      "250/250 [==============================] - 1s 4ms/step - loss: 0.3330 - accuracy: 0.8625\n",
      "Epoch 79/100\n",
      "250/250 [==============================] - 1s 3ms/step - loss: 0.3331 - accuracy: 0.8627\n",
      "Epoch 80/100\n",
      "250/250 [==============================] - 1s 3ms/step - loss: 0.3332 - accuracy: 0.8627\n",
      "Epoch 81/100\n",
      "250/250 [==============================] - 1s 3ms/step - loss: 0.3326 - accuracy: 0.8633\n",
      "Epoch 82/100\n",
      "250/250 [==============================] - 1s 4ms/step - loss: 0.3324 - accuracy: 0.8633: 0s - loss: 0.3316 - accuracy: \n",
      "Epoch 83/100\n",
      "250/250 [==============================] - 1s 4ms/step - loss: 0.3328 - accuracy: 0.8644\n",
      "Epoch 84/100\n",
      "250/250 [==============================] - 1s 4ms/step - loss: 0.3327 - accuracy: 0.8645\n",
      "Epoch 85/100\n",
      "250/250 [==============================] - 1s 3ms/step - loss: 0.3323 - accuracy: 0.8610\n",
      "Epoch 86/100\n",
      "250/250 [==============================] - 1s 5ms/step - loss: 0.3325 - accuracy: 0.8643: 0s -\n",
      "Epoch 87/100\n",
      "250/250 [==============================] - 1s 4ms/step - loss: 0.3322 - accuracy: 0.8634\n",
      "Epoch 88/100\n",
      "250/250 [==============================] - 1s 4ms/step - loss: 0.3321 - accuracy: 0.8636\n",
      "Epoch 89/100\n",
      "250/250 [==============================] - 1s 5ms/step - loss: 0.3320 - accuracy: 0.8644: 0s - loss: 0.3318 - accuracy: 0.86 - ETA: 0s - loss: 0.3319 - accura - ETA: 0s - loss: 0.3306 - accura\n",
      "Epoch 90/100\n",
      "250/250 [==============================] - 1s 4ms/step - loss: 0.3322 - accuracy: 0.8633\n",
      "Epoch 91/100\n",
      "250/250 [==============================] - 1s 4ms/step - loss: 0.3313 - accuracy: 0.8631\n",
      "Epoch 92/100\n",
      "250/250 [==============================] - 1s 4ms/step - loss: 0.3319 - accuracy: 0.8644: 0s - loss: 0.3\n",
      "Epoch 93/100\n",
      "250/250 [==============================] - 1s 5ms/step - loss: 0.3319 - accuracy: 0.8643: 0s - loss: 0.3316 - \n",
      "Epoch 94/100\n",
      "250/250 [==============================] - 1s 4ms/step - loss: 0.3321 - accuracy: 0.8634: 0s - los\n",
      "Epoch 95/100\n",
      "250/250 [==============================] - 1s 4ms/step - loss: 0.3318 - accuracy: 0.8636\n",
      "Epoch 96/100\n",
      "250/250 [==============================] - 1s 5ms/step - loss: 0.3316 - accuracy: 0.8630\n",
      "Epoch 97/100\n",
      "250/250 [==============================] - 1s 5ms/step - loss: 0.3319 - accuracy: 0.8635\n",
      "Epoch 98/100\n",
      "250/250 [==============================] - 1s 4ms/step - loss: 0.3313 - accuracy: 0.8643: 0s - loss: 0.3305 - ac\n",
      "Epoch 99/100\n",
      "250/250 [==============================] - 1s 4ms/step - loss: 0.3315 - accuracy: 0.8627\n",
      "Epoch 100/100\n",
      "250/250 [==============================] - 1s 4ms/step - loss: 0.3313 - accuracy: 0.8625\n"
     ]
    },
    {
     "data": {
      "text/plain": [
       "<tensorflow.python.keras.callbacks.History at 0x260e3f08df0>"
      ]
     },
     "execution_count": 17,
     "metadata": {},
     "output_type": "execute_result"
    }
   ],
   "source": [
    "ann.fit(X_train, y_train, batch_size = 32, epochs = 100)"
   ]
  },
  {
   "cell_type": "markdown",
   "metadata": {
    "colab_type": "text",
    "id": "tJj5k2MxZga3"
   },
   "source": [
    "## Part 4 - Making the predictions and evaluating the model"
   ]
  },
  {
   "cell_type": "markdown",
   "metadata": {
    "colab_type": "text",
    "id": "u7yx47jPZt11"
   },
   "source": [
    "### Predicting the Test set results"
   ]
  },
  {
   "cell_type": "code",
   "execution_count": 18,
   "metadata": {
    "colab": {
     "base_uri": "https://localhost:8080/",
     "height": 134
    },
    "colab_type": "code",
    "executionInfo": {
     "elapsed": 31748,
     "status": "ok",
     "timestamp": 1586428405581,
     "user": {
      "displayName": "Hadelin de Ponteves",
      "photoUrl": "https://lh3.googleusercontent.com/a-/AOh14GhEuXdT7eQweUmRPW8_laJuPggSK6hfvpl5a6WBaA=s64",
      "userId": "15047218817161520419"
     },
     "user_tz": -240
    },
    "id": "nIyEeQdRZwgs",
    "outputId": "a0f4d9ad-9a29-41dc-b101-9e7216d74dc0"
   },
   "outputs": [
    {
     "name": "stdout",
     "output_type": "stream",
     "text": [
      "[[0 0]\n",
      " [0 1]\n",
      " [0 0]\n",
      " ...\n",
      " [0 0]\n",
      " [0 0]\n",
      " [0 0]]\n"
     ]
    }
   ],
   "source": [
    "y_pred = ann.predict(X_test)\n",
    "y_pred = (y_pred > 0.5)\n",
    "print(np.concatenate((y_pred.reshape(len(y_pred),1), y_test.reshape(len(y_test),1)),1))"
   ]
  },
  {
   "cell_type": "markdown",
   "metadata": {
    "colab_type": "text",
    "id": "o0oyfLWoaEGw"
   },
   "source": [
    "### Making the Confusion Matrix"
   ]
  },
  {
   "cell_type": "code",
   "execution_count": 19,
   "metadata": {
    "colab": {
     "base_uri": "https://localhost:8080/",
     "height": 50
    },
    "colab_type": "code",
    "executionInfo": {
     "elapsed": 31746,
     "status": "ok",
     "timestamp": 1586428405581,
     "user": {
      "displayName": "Hadelin de Ponteves",
      "photoUrl": "https://lh3.googleusercontent.com/a-/AOh14GhEuXdT7eQweUmRPW8_laJuPggSK6hfvpl5a6WBaA=s64",
      "userId": "15047218817161520419"
     },
     "user_tz": -240
    },
    "id": "ci6K_r6LaF6P",
    "outputId": "09bd315f-7091-457f-b222-ce3998de57a5"
   },
   "outputs": [
    {
     "name": "stdout",
     "output_type": "stream",
     "text": [
      "[[1500   95]\n",
      " [ 186  219]]\n"
     ]
    }
   ],
   "source": [
    "from sklearn.metrics import confusion_matrix\n",
    "cm = confusion_matrix(y_test, y_pred)\n",
    "print(cm)"
   ]
  },
  {
   "cell_type": "markdown",
   "metadata": {},
   "source": [
    "# Implement ANN using Sigmoid function"
   ]
  },
  {
   "cell_type": "code",
   "execution_count": 20,
   "metadata": {},
   "outputs": [
    {
     "name": "stdout",
     "output_type": "stream",
     "text": [
      "Epoch 1/150\n",
      "800/800 [==============================] - 3s 3ms/step - loss: 0.7184 - accuracy: 0.5679: \n",
      "Epoch 2/150\n",
      "800/800 [==============================] - 2s 3ms/step - loss: 0.4777 - accuracy: 0.7960: 0s - loss: 0.475\n",
      "Epoch 3/150\n",
      "800/800 [==============================] - 3s 3ms/step - loss: 0.4548 - accuracy: 0.7959\n",
      "Epoch 4/150\n",
      "800/800 [==============================] - 3s 3ms/step - loss: 0.4397 - accuracy: 0.8036\n",
      "Epoch 5/150\n",
      "800/800 [==============================] - 2s 3ms/step - loss: 0.4304 - accuracy: 0.8141: 0s - l\n",
      "Epoch 6/150\n",
      "800/800 [==============================] - 2s 3ms/step - loss: 0.4237 - accuracy: 0.8152\n",
      "Epoch 7/150\n",
      "800/800 [==============================] - 3s 3ms/step - loss: 0.4177 - accuracy: 0.8209: 0s -\n",
      "Epoch 8/150\n",
      "800/800 [==============================] - 3s 3ms/step - loss: 0.4128 - accuracy: 0.8253\n",
      "Epoch 9/150\n",
      "800/800 [==============================] - 2s 3ms/step - loss: 0.4082 - accuracy: 0.8284\n",
      "Epoch 10/150\n",
      "800/800 [==============================] - 3s 3ms/step - loss: 0.4041 - accuracy: 0.8320\n",
      "Epoch 11/150\n",
      "800/800 [==============================] - 3s 4ms/step - loss: 0.4006 - accuracy: 0.8325\n",
      "Epoch 12/150\n",
      "800/800 [==============================] - 3s 3ms/step - loss: 0.3975 - accuracy: 0.8331\n",
      "Epoch 13/150\n",
      "800/800 [==============================] - 3s 4ms/step - loss: 0.3946 - accuracy: 0.8345\n",
      "Epoch 14/150\n",
      "800/800 [==============================] - 3s 4ms/step - loss: 0.3919 - accuracy: 0.8370\n",
      "Epoch 15/150\n",
      "800/800 [==============================] - 3s 4ms/step - loss: 0.3893 - accuracy: 0.8389\n",
      "Epoch 16/150\n",
      "800/800 [==============================] - 3s 4ms/step - loss: 0.3871 - accuracy: 0.8389: 0s - loss: 0.3857 - accu\n",
      "Epoch 17/150\n",
      "800/800 [==============================] - 3s 4ms/step - loss: 0.3847 - accuracy: 0.8410\n",
      "Epoch 18/150\n",
      "800/800 [==============================] - 3s 3ms/step - loss: 0.3828 - accuracy: 0.8410\n",
      "Epoch 19/150\n",
      "800/800 [==============================] - 3s 3ms/step - loss: 0.3808 - accuracy: 0.8443\n",
      "Epoch 20/150\n",
      "800/800 [==============================] - 3s 4ms/step - loss: 0.3787 - accuracy: 0.8447\n",
      "Epoch 21/150\n",
      "800/800 [==============================] - 3s 4ms/step - loss: 0.3770 - accuracy: 0.8474: 1s - loss:\n",
      "Epoch 22/150\n",
      "800/800 [==============================] - 3s 4ms/step - loss: 0.3753 - accuracy: 0.8475\n",
      "Epoch 23/150\n",
      "800/800 [==============================] - 3s 4ms/step - loss: 0.3736 - accuracy: 0.8478\n",
      "Epoch 24/150\n",
      "800/800 [==============================] - 4s 4ms/step - loss: 0.3715 - accuracy: 0.8491\n",
      "Epoch 25/150\n",
      "800/800 [==============================] - 3s 4ms/step - loss: 0.3706 - accuracy: 0.8503\n",
      "Epoch 26/150\n",
      "800/800 [==============================] - ETA: 0s - loss: 0.3689 - accuracy: 0.85 - 3s 4ms/step - loss: 0.3685 - accuracy: 0.8504\n",
      "Epoch 27/150\n",
      "800/800 [==============================] - 3s 4ms/step - loss: 0.3674 - accuracy: 0.8505\n",
      "Epoch 28/150\n",
      "800/800 [==============================] - 3s 4ms/step - loss: 0.3660 - accuracy: 0.8516: 1s - loss: 0.363 - ETA\n",
      "Epoch 29/150\n",
      "800/800 [==============================] - 3s 4ms/step - loss: 0.3647 - accuracy: 0.8528\n",
      "Epoch 30/150\n",
      "800/800 [==============================] - 3s 4ms/step - loss: 0.3633 - accuracy: 0.8515\n",
      "Epoch 31/150\n",
      "800/800 [==============================] - 3s 4ms/step - loss: 0.3622 - accuracy: 0.8540\n",
      "Epoch 32/150\n",
      "800/800 [==============================] - 3s 4ms/step - loss: 0.3610 - accuracy: 0.8529: 2s - loss: 0.3602 - accuracy: 0. -\n",
      "Epoch 33/150\n",
      "800/800 [==============================] - 3s 4ms/step - loss: 0.3598 - accuracy: 0.8539: 0s - loss: 0.3604 - accuracy: 0.85\n",
      "Epoch 34/150\n",
      "800/800 [==============================] - 3s 4ms/step - loss: 0.3585 - accuracy: 0.8539\n",
      "Epoch 35/150\n",
      "800/800 [==============================] - 3s 4ms/step - loss: 0.3578 - accuracy: 0.8544: 0s - l\n",
      "Epoch 36/150\n",
      "800/800 [==============================] - 3s 4ms/step - loss: 0.3568 - accuracy: 0.8554\n",
      "Epoch 37/150\n",
      "800/800 [==============================] - 3s 4ms/step - loss: 0.3557 - accuracy: 0.8553: 0s - l\n",
      "Epoch 38/150\n",
      "800/800 [==============================] - 3s 4ms/step - loss: 0.3549 - accuracy: 0.8554\n",
      "Epoch 39/150\n",
      "800/800 [==============================] - 3s 4ms/step - loss: 0.3537 - accuracy: 0.8556: 0s - loss: 0.3537 - accuracy: 0.85 - ETA: 0s - loss: 0.3538 - accu\n",
      "Epoch 40/150\n",
      "800/800 [==============================] - 3s 4ms/step - loss: 0.3534 - accuracy: 0.8559: 1s - loss: 0.3 - ETA: \n",
      "Epoch 41/150\n",
      "800/800 [==============================] - 3s 4ms/step - loss: 0.3524 - accuracy: 0.8562: 1s - loss: 0\n",
      "Epoch 42/150\n",
      "800/800 [==============================] - 4s 5ms/step - loss: 0.3518 - accuracy: 0.8570\n",
      "Epoch 43/150\n",
      "800/800 [==============================] - 4s 4ms/step - loss: 0.3509 - accuracy: 0.8558\n",
      "Epoch 44/150\n",
      "800/800 [==============================] - 4s 5ms/step - loss: 0.3503 - accuracy: 0.8576: 0s - loss: 0.3481 - accuracy: 0.\n",
      "Epoch 45/150\n",
      "800/800 [==============================] - 3s 4ms/step - loss: 0.3499 - accuracy: 0.8585\n",
      "Epoch 46/150\n",
      "800/800 [==============================] - 3s 4ms/step - loss: 0.3491 - accuracy: 0.8585: 1s - loss: 0.3385 -  - ETA: 0s - loss:\n",
      "Epoch 47/150\n",
      "800/800 [==============================] - 4s 5ms/step - loss: 0.3484 - accuracy: 0.8577 - ETA: 0s - los\n",
      "Epoch 48/150\n",
      "800/800 [==============================] - 4s 5ms/step - loss: 0.3475 - accuracy: 0.8580\n",
      "Epoch 49/150\n",
      "800/800 [==============================] - 4s 5ms/step - loss: 0.3472 - accuracy: 0.8580: 0s - loss:\n",
      "Epoch 50/150\n",
      "800/800 [==============================] - 3s 4ms/step - loss: 0.3466 - accuracy: 0.8589: 0s - loss: 0.3492 - accuracy: \n",
      "Epoch 51/150\n",
      "800/800 [==============================] - 3s 4ms/step - loss: 0.3458 - accuracy: 0.8597: 0s - loss: 0.3501 - accuracy - ETA: 0s - loss: 0.3469 - accu\n",
      "Epoch 52/150\n",
      "800/800 [==============================] - 4s 5ms/step - loss: 0.3458 - accuracy: 0.8599\n",
      "Epoch 53/150\n",
      "800/800 [==============================] - 5s 6ms/step - loss: 0.3450 - accuracy: 0.8591\n",
      "Epoch 54/150\n",
      "800/800 [==============================] - 3s 4ms/step - loss: 0.3445 - accuracy: 0.8602\n",
      "Epoch 55/150\n",
      "800/800 [==============================] - 3s 4ms/step - loss: 0.3440 - accuracy: 0.8594: 0s - loss: 0.3453 - accuracy: 0.\n",
      "Epoch 56/150\n",
      "800/800 [==============================] - 3s 3ms/step - loss: 0.3430 - accuracy: 0.8608\n",
      "Epoch 57/150\n",
      "800/800 [==============================] - 4s 4ms/step - loss: 0.3431 - accuracy: 0.8591\n",
      "Epoch 58/150\n",
      "800/800 [==============================] - 3s 4ms/step - loss: 0.3425 - accuracy: 0.8618\n",
      "Epoch 59/150\n",
      "800/800 [==============================] - 3s 3ms/step - loss: 0.3423 - accuracy: 0.8602\n",
      "Epoch 60/150\n",
      "800/800 [==============================] - 2s 2ms/step - loss: 0.3419 - accuracy: 0.8608\n",
      "Epoch 61/150\n",
      "800/800 [==============================] - 2s 3ms/step - loss: 0.3415 - accuracy: 0.8620\n",
      "Epoch 62/150\n",
      "800/800 [==============================] - 2s 2ms/step - loss: 0.3409 - accuracy: 0.8618\n",
      "Epoch 63/150\n",
      "800/800 [==============================] - 3s 4ms/step - loss: 0.3407 - accuracy: 0.8620\n",
      "Epoch 64/150\n",
      "800/800 [==============================] - 3s 3ms/step - loss: 0.3407 - accuracy: 0.8609\n",
      "Epoch 65/150\n",
      "800/800 [==============================] - 3s 4ms/step - loss: 0.3397 - accuracy: 0.8604\n",
      "Epoch 66/150\n",
      "800/800 [==============================] - 2s 3ms/step - loss: 0.3402 - accuracy: 0.8616\n",
      "Epoch 67/150\n",
      "800/800 [==============================] - 2s 2ms/step - loss: 0.3399 - accuracy: 0.8627\n",
      "Epoch 68/150\n",
      "800/800 [==============================] - 2s 2ms/step - loss: 0.3394 - accuracy: 0.8616\n",
      "Epoch 69/150\n",
      "800/800 [==============================] - 2s 2ms/step - loss: 0.3395 - accuracy: 0.8624\n",
      "Epoch 70/150\n",
      "800/800 [==============================] - 2s 2ms/step - loss: 0.3393 - accuracy: 0.8625\n",
      "Epoch 71/150\n",
      "800/800 [==============================] - 2s 2ms/step - loss: 0.3389 - accuracy: 0.8620\n",
      "Epoch 72/150\n",
      "800/800 [==============================] - 2s 2ms/step - loss: 0.3389 - accuracy: 0.8604\n",
      "Epoch 73/150\n",
      "800/800 [==============================] - 2s 2ms/step - loss: 0.3386 - accuracy: 0.8618\n",
      "Epoch 74/150\n",
      "800/800 [==============================] - 2s 2ms/step - loss: 0.3383 - accuracy: 0.8624\n",
      "Epoch 75/150\n"
     ]
    },
    {
     "name": "stdout",
     "output_type": "stream",
     "text": [
      "800/800 [==============================] - 2s 2ms/step - loss: 0.3381 - accuracy: 0.8610\n",
      "Epoch 76/150\n",
      "800/800 [==============================] - 2s 2ms/step - loss: 0.3380 - accuracy: 0.8627\n",
      "Epoch 77/150\n",
      "800/800 [==============================] - 2s 3ms/step - loss: 0.3378 - accuracy: 0.8625\n",
      "Epoch 78/150\n",
      "800/800 [==============================] - 2s 3ms/step - loss: 0.3374 - accuracy: 0.8641\n",
      "Epoch 79/150\n",
      "800/800 [==============================] - 2s 3ms/step - loss: 0.3372 - accuracy: 0.8621\n",
      "Epoch 80/150\n",
      "800/800 [==============================] - 2s 2ms/step - loss: 0.3375 - accuracy: 0.8602\n",
      "Epoch 81/150\n",
      "800/800 [==============================] - 2s 2ms/step - loss: 0.3374 - accuracy: 0.8627\n",
      "Epoch 82/150\n",
      "800/800 [==============================] - 2s 2ms/step - loss: 0.3372 - accuracy: 0.8609\n",
      "Epoch 83/150\n",
      "800/800 [==============================] - 2s 2ms/step - loss: 0.3368 - accuracy: 0.8614\n",
      "Epoch 84/150\n",
      "800/800 [==============================] - 2s 3ms/step - loss: 0.3369 - accuracy: 0.8634: 0s - loss: 0.3423 \n",
      "Epoch 85/150\n",
      "800/800 [==============================] - 2s 2ms/step - loss: 0.3365 - accuracy: 0.8611\n",
      "Epoch 86/150\n",
      "800/800 [==============================] - 3s 4ms/step - loss: 0.3366 - accuracy: 0.8615\n",
      "Epoch 87/150\n",
      "800/800 [==============================] - 2s 3ms/step - loss: 0.3363 - accuracy: 0.8619\n",
      "Epoch 88/150\n",
      "800/800 [==============================] - ETA: 0s - loss: 0.3370 - accuracy: 0.86 - 4s 6ms/step - loss: 0.3364 - accuracy: 0.8620\n",
      "Epoch 89/150\n",
      "800/800 [==============================] - 4s 4ms/step - loss: 0.3363 - accuracy: 0.8605: 0s - loss: 0.3378 -  - ETA: 0s - loss: 0.3345 \n",
      "Epoch 90/150\n",
      "800/800 [==============================] - 5s 6ms/step - loss: 0.3357 - accuracy: 0.8618\n",
      "Epoch 91/150\n",
      "800/800 [==============================] - 5s 7ms/step - loss: 0.3358 - accuracy: 0.8643: 0s -\n",
      "Epoch 92/150\n",
      "800/800 [==============================] - 2s 3ms/step - loss: 0.3357 - accuracy: 0.8604: 0s - loss: 0.3431 - accu\n",
      "Epoch 93/150\n",
      "800/800 [==============================] - 3s 4ms/step - loss: 0.3357 - accuracy: 0.8618: 1s - l\n",
      "Epoch 94/150\n",
      "800/800 [==============================] - 3s 3ms/step - loss: 0.3353 - accuracy: 0.8626\n",
      "Epoch 95/150\n",
      "800/800 [==============================] - 2s 2ms/step - loss: 0.3351 - accuracy: 0.8626\n",
      "Epoch 96/150\n",
      "800/800 [==============================] - 2s 3ms/step - loss: 0.3352 - accuracy: 0.8630\n",
      "Epoch 97/150\n",
      "800/800 [==============================] - 2s 2ms/step - loss: 0.3351 - accuracy: 0.8614\n",
      "Epoch 98/150\n",
      "800/800 [==============================] - 2s 3ms/step - loss: 0.3350 - accuracy: 0.8626: 1s - loss: 0\n",
      "Epoch 99/150\n",
      "800/800 [==============================] - 2s 3ms/step - loss: 0.3350 - accuracy: 0.8615\n",
      "Epoch 100/150\n",
      "800/800 [==============================] - 2s 3ms/step - loss: 0.3349 - accuracy: 0.8609\n",
      "Epoch 101/150\n",
      "800/800 [==============================] - 2s 2ms/step - loss: 0.3348 - accuracy: 0.8626\n",
      "Epoch 102/150\n",
      "800/800 [==============================] - 2s 3ms/step - loss: 0.3347 - accuracy: 0.8612\n",
      "Epoch 103/150\n",
      "800/800 [==============================] - 2s 3ms/step - loss: 0.3347 - accuracy: 0.8637\n",
      "Epoch 104/150\n",
      "800/800 [==============================] - 3s 4ms/step - loss: 0.3345 - accuracy: 0.8633\n",
      "Epoch 105/150\n",
      "800/800 [==============================] - 4s 4ms/step - loss: 0.3345 - accuracy: 0.8615\n",
      "Epoch 106/150\n",
      "800/800 [==============================] - 3s 4ms/step - loss: 0.3344 - accuracy: 0.8620\n",
      "Epoch 107/150\n",
      "800/800 [==============================] - 2s 3ms/step - loss: 0.3343 - accuracy: 0.8619\n",
      "Epoch 108/150\n",
      "800/800 [==============================] - 2s 3ms/step - loss: 0.3339 - accuracy: 0.8631\n",
      "Epoch 109/150\n",
      "800/800 [==============================] - 2s 3ms/step - loss: 0.3336 - accuracy: 0.8630\n",
      "Epoch 110/150\n",
      "800/800 [==============================] - 3s 4ms/step - loss: 0.3339 - accuracy: 0.8622: 0s - loss: 0.3347 - ac\n",
      "Epoch 111/150\n",
      "800/800 [==============================] - 3s 4ms/step - loss: 0.3336 - accuracy: 0.8629\n",
      "Epoch 112/150\n",
      "800/800 [==============================] - 3s 3ms/step - loss: 0.3338 - accuracy: 0.8612: 0s - loss: 0.3344 - accuracy: 0.86\n",
      "Epoch 113/150\n",
      "800/800 [==============================] - 5s 6ms/step - loss: 0.3334 - accuracy: 0.8614: 0s - loss: 0\n",
      "Epoch 114/150\n",
      "800/800 [==============================] - 5s 6ms/step - loss: 0.3335 - accuracy: 0.8618\n",
      "Epoch 115/150\n",
      "800/800 [==============================] - 3s 3ms/step - loss: 0.3334 - accuracy: 0.8612: 0s - loss: 0\n",
      "Epoch 116/150\n",
      "800/800 [==============================] - 3s 3ms/step - loss: 0.3336 - accuracy: 0.8618\n",
      "Epoch 117/150\n",
      "800/800 [==============================] - 2s 3ms/step - loss: 0.3333 - accuracy: 0.8610\n",
      "Epoch 118/150\n",
      "800/800 [==============================] - 2s 3ms/step - loss: 0.3331 - accuracy: 0.8618\n",
      "Epoch 119/150\n",
      "800/800 [==============================] - 2s 2ms/step - loss: 0.3330 - accuracy: 0.8622\n",
      "Epoch 120/150\n",
      "800/800 [==============================] - 2s 2ms/step - loss: 0.3329 - accuracy: 0.8622\n",
      "Epoch 121/150\n",
      "800/800 [==============================] - 2s 3ms/step - loss: 0.3333 - accuracy: 0.8610\n",
      "Epoch 122/150\n",
      "800/800 [==============================] - 2s 3ms/step - loss: 0.3328 - accuracy: 0.8615\n",
      "Epoch 123/150\n",
      "800/800 [==============================] - 2s 2ms/step - loss: 0.3326 - accuracy: 0.8630\n",
      "Epoch 124/150\n",
      "800/800 [==============================] - 2s 3ms/step - loss: 0.3326 - accuracy: 0.8626: 0s - loss: 0\n",
      "Epoch 125/150\n",
      "800/800 [==============================] - 2s 2ms/step - loss: 0.3328 - accuracy: 0.8627\n",
      "Epoch 126/150\n",
      "800/800 [==============================] - 2s 2ms/step - loss: 0.3325 - accuracy: 0.8625\n",
      "Epoch 127/150\n",
      "800/800 [==============================] - 2s 2ms/step - loss: 0.3322 - accuracy: 0.8620\n",
      "Epoch 128/150\n",
      "800/800 [==============================] - 2s 2ms/step - loss: 0.3327 - accuracy: 0.8619\n",
      "Epoch 129/150\n",
      "800/800 [==============================] - 2s 2ms/step - loss: 0.3323 - accuracy: 0.8612\n",
      "Epoch 130/150\n",
      "800/800 [==============================] - 2s 3ms/step - loss: 0.3325 - accuracy: 0.8626\n",
      "Epoch 131/150\n",
      "800/800 [==============================] - 2s 3ms/step - loss: 0.3325 - accuracy: 0.8622\n",
      "Epoch 132/150\n",
      "800/800 [==============================] - 2s 2ms/step - loss: 0.3323 - accuracy: 0.8621\n",
      "Epoch 133/150\n",
      "800/800 [==============================] - 2s 2ms/step - loss: 0.3325 - accuracy: 0.8618\n",
      "Epoch 134/150\n",
      "800/800 [==============================] - 3s 4ms/step - loss: 0.3323 - accuracy: 0.8614\n",
      "Epoch 135/150\n",
      "800/800 [==============================] - 2s 3ms/step - loss: 0.3319 - accuracy: 0.8630\n",
      "Epoch 136/150\n",
      "800/800 [==============================] - 2s 2ms/step - loss: 0.3318 - accuracy: 0.8625\n",
      "Epoch 137/150\n",
      "800/800 [==============================] - 2s 2ms/step - loss: 0.3322 - accuracy: 0.8620\n",
      "Epoch 138/150\n",
      "800/800 [==============================] - 2s 2ms/step - loss: 0.3323 - accuracy: 0.8614\n",
      "Epoch 139/150\n",
      "800/800 [==============================] - 2s 2ms/step - loss: 0.3321 - accuracy: 0.8622\n",
      "Epoch 140/150\n",
      "800/800 [==============================] - 2s 2ms/step - loss: 0.3317 - accuracy: 0.8630\n",
      "Epoch 141/150\n",
      "800/800 [==============================] - 2s 3ms/step - loss: 0.3317 - accuracy: 0.8624\n",
      "Epoch 142/150\n",
      "800/800 [==============================] - 2s 3ms/step - loss: 0.3315 - accuracy: 0.8622\n",
      "Epoch 143/150\n",
      "800/800 [==============================] - 2s 2ms/step - loss: 0.3319 - accuracy: 0.8619\n",
      "Epoch 144/150\n",
      "800/800 [==============================] - 2s 2ms/step - loss: 0.3318 - accuracy: 0.8618\n",
      "Epoch 145/150\n",
      "800/800 [==============================] - 2s 2ms/step - loss: 0.3317 - accuracy: 0.8629\n",
      "Epoch 146/150\n",
      "800/800 [==============================] - 2s 2ms/step - loss: 0.3318 - accuracy: 0.8633\n",
      "Epoch 147/150\n",
      "800/800 [==============================] - 2s 2ms/step - loss: 0.3314 - accuracy: 0.8615\n",
      "Epoch 148/150\n",
      "800/800 [==============================] - 2s 2ms/step - loss: 0.3318 - accuracy: 0.8614\n",
      "Epoch 149/150\n",
      "800/800 [==============================] - 2s 2ms/step - loss: 0.3313 - accuracy: 0.8634: 0s - loss: 0.3330 - ac\n",
      "Epoch 150/150\n",
      "800/800 [==============================] - 2s 3ms/step - loss: 0.3317 - accuracy: 0.8616: 1s - ETA: 0s - loss: 0.338\n",
      "[[0 0]\n",
      " [0 1]\n",
      " [0 0]\n",
      " ...\n",
      " [0 0]\n",
      " [0 0]\n",
      " [0 0]]\n",
      "[[1521   74]\n",
      " [ 204  201]]\n"
     ]
    }
   ],
   "source": [
    "ann = tf.keras.models.Sequential()\n",
    "ann.add(tf.keras.layers.Dense(units=6, activation='sigmoid'))\n",
    "ann.add(tf.keras.layers.Dense(units=6, activation='sigmoid'))\n",
    "ann.add(tf.keras.layers.Dense(units=1, activation='sigmoid'))\n",
    "ann.compile(optimizer = 'adam', loss = 'binary_crossentropy', metrics = ['accuracy'])\n",
    "ann.fit(X_train, y_train, batch_size = 10, epochs = 150)\n",
    "\n",
    "y_pred = ann.predict(X_test)\n",
    "y_pred = (y_pred > 0.5)\n",
    "print(np.concatenate((y_pred.reshape(len(y_pred),1), y_test.reshape(len(y_test),1)),1))\n",
    "\n",
    "from sklearn.metrics import confusion_matrix\n",
    "cm = confusion_matrix(y_test, y_pred)\n",
    "print(cm)"
   ]
  },
  {
   "cell_type": "markdown",
   "metadata": {},
   "source": [
    "# Implement ANN using tanh function"
   ]
  },
  {
   "cell_type": "code",
   "execution_count": 21,
   "metadata": {},
   "outputs": [
    {
     "name": "stdout",
     "output_type": "stream",
     "text": [
      "Epoch 1/150\n",
      "800/800 [==============================] - 2s 3ms/step - loss: 0.5008 - accuracy: 0.7582\n",
      "Epoch 2/150\n",
      "800/800 [==============================] - 3s 4ms/step - loss: 0.4177 - accuracy: 0.8164\n",
      "Epoch 3/150\n",
      "800/800 [==============================] - 2s 3ms/step - loss: 0.4024 - accuracy: 0.8264\n",
      "Epoch 4/150\n",
      "800/800 [==============================] - 2s 3ms/step - loss: 0.3897 - accuracy: 0.8325: 0s - loss: 0.3912 \n",
      "Epoch 5/150\n",
      "800/800 [==============================] - 2s 2ms/step - loss: 0.3785 - accuracy: 0.8376\n",
      "Epoch 6/150\n",
      "800/800 [==============================] - 2s 2ms/step - loss: 0.3686 - accuracy: 0.8445\n",
      "Epoch 7/150\n",
      "800/800 [==============================] - 2s 2ms/step - loss: 0.3630 - accuracy: 0.8505\n",
      "Epoch 8/150\n",
      "800/800 [==============================] - 2s 2ms/step - loss: 0.3580 - accuracy: 0.8534\n",
      "Epoch 9/150\n",
      "800/800 [==============================] - 2s 2ms/step - loss: 0.3550 - accuracy: 0.8539\n",
      "Epoch 10/150\n",
      "800/800 [==============================] - 2s 2ms/step - loss: 0.3521 - accuracy: 0.8560\n",
      "Epoch 11/150\n",
      "800/800 [==============================] - 2s 2ms/step - loss: 0.3506 - accuracy: 0.8566\n",
      "Epoch 12/150\n",
      "800/800 [==============================] - 2s 3ms/step - loss: 0.3490 - accuracy: 0.8566\n",
      "Epoch 13/150\n",
      "800/800 [==============================] - 2s 3ms/step - loss: 0.3468 - accuracy: 0.8574\n",
      "Epoch 14/150\n",
      "800/800 [==============================] - 3s 3ms/step - loss: 0.3455 - accuracy: 0.8590\n",
      "Epoch 15/150\n",
      "800/800 [==============================] - 2s 3ms/step - loss: 0.3446 - accuracy: 0.8589\n",
      "Epoch 16/150\n",
      "800/800 [==============================] - 2s 3ms/step - loss: 0.3439 - accuracy: 0.8602\n",
      "Epoch 17/150\n",
      "800/800 [==============================] - 2s 2ms/step - loss: 0.3433 - accuracy: 0.8599\n",
      "Epoch 18/150\n",
      "800/800 [==============================] - 2s 2ms/step - loss: 0.3431 - accuracy: 0.8595\n",
      "Epoch 19/150\n",
      "800/800 [==============================] - 2s 2ms/step - loss: 0.3425 - accuracy: 0.8618\n",
      "Epoch 20/150\n",
      "800/800 [==============================] - 2s 3ms/step - loss: 0.3421 - accuracy: 0.8606\n",
      "Epoch 21/150\n",
      "800/800 [==============================] - 2s 3ms/step - loss: 0.3419 - accuracy: 0.8605\n",
      "Epoch 22/150\n",
      "800/800 [==============================] - 3s 4ms/step - loss: 0.3412 - accuracy: 0.8601\n",
      "Epoch 23/150\n",
      "800/800 [==============================] - 3s 3ms/step - loss: 0.3405 - accuracy: 0.8645\n",
      "Epoch 24/150\n",
      "800/800 [==============================] - 2s 3ms/step - loss: 0.3399 - accuracy: 0.8626\n",
      "Epoch 25/150\n",
      "800/800 [==============================] - 3s 4ms/step - loss: 0.3399 - accuracy: 0.8616\n",
      "Epoch 26/150\n",
      "800/800 [==============================] - 2s 3ms/step - loss: 0.3402 - accuracy: 0.8619\n",
      "Epoch 27/150\n",
      "800/800 [==============================] - 2s 3ms/step - loss: 0.3398 - accuracy: 0.8614: 1s - l\n",
      "Epoch 28/150\n",
      "800/800 [==============================] - 2s 3ms/step - loss: 0.3395 - accuracy: 0.8610\n",
      "Epoch 29/150\n",
      "800/800 [==============================] - 2s 3ms/step - loss: 0.3392 - accuracy: 0.8626: 0s - loss: 0.340\n",
      "Epoch 30/150\n",
      "800/800 [==============================] - 2s 3ms/step - loss: 0.3396 - accuracy: 0.8630\n",
      "Epoch 31/150\n",
      "800/800 [==============================] - 2s 3ms/step - loss: 0.3393 - accuracy: 0.8604: 0s - loss: 0.3407 - ac\n",
      "Epoch 32/150\n",
      "800/800 [==============================] - 2s 2ms/step - loss: 0.3387 - accuracy: 0.8612\n",
      "Epoch 33/150\n",
      "800/800 [==============================] - 2s 2ms/step - loss: 0.3392 - accuracy: 0.8634\n",
      "Epoch 34/150\n",
      "800/800 [==============================] - 2s 2ms/step - loss: 0.3386 - accuracy: 0.8633\n",
      "Epoch 35/150\n",
      "800/800 [==============================] - 2s 3ms/step - loss: 0.3387 - accuracy: 0.8625\n",
      "Epoch 36/150\n",
      "800/800 [==============================] - 2s 2ms/step - loss: 0.3386 - accuracy: 0.8620\n",
      "Epoch 37/150\n",
      "800/800 [==============================] - 2s 3ms/step - loss: 0.3381 - accuracy: 0.8619\n",
      "Epoch 38/150\n",
      "800/800 [==============================] - 2s 2ms/step - loss: 0.3383 - accuracy: 0.8645\n",
      "Epoch 39/150\n",
      "800/800 [==============================] - 2s 3ms/step - loss: 0.3388 - accuracy: 0.8631\n",
      "Epoch 40/150\n",
      "800/800 [==============================] - 2s 2ms/step - loss: 0.3383 - accuracy: 0.8636\n",
      "Epoch 41/150\n",
      "800/800 [==============================] - 2s 2ms/step - loss: 0.3383 - accuracy: 0.8608\n",
      "Epoch 42/150\n",
      "800/800 [==============================] - 2s 2ms/step - loss: 0.3378 - accuracy: 0.8621\n",
      "Epoch 43/150\n",
      "800/800 [==============================] - 2s 2ms/step - loss: 0.3382 - accuracy: 0.8621\n",
      "Epoch 44/150\n",
      "800/800 [==============================] - 2s 2ms/step - loss: 0.3379 - accuracy: 0.8633: 0s - loss: 0.3363 - accuracy: 0.\n",
      "Epoch 45/150\n",
      "800/800 [==============================] - 2s 2ms/step - loss: 0.3374 - accuracy: 0.8627\n",
      "Epoch 46/150\n",
      "800/800 [==============================] - 2s 2ms/step - loss: 0.3375 - accuracy: 0.8624\n",
      "Epoch 47/150\n",
      "800/800 [==============================] - ETA: 0s - loss: 0.3379 - accuracy: 0.8621 ETA: 0s - loss: 0.3378 - accura - 2s 2ms/step - loss: 0.3376 - accuracy: 0.8621\n",
      "Epoch 48/150\n",
      "800/800 [==============================] - 2s 2ms/step - loss: 0.3376 - accuracy: 0.8631\n",
      "Epoch 49/150\n",
      "800/800 [==============================] - 2s 2ms/step - loss: 0.3375 - accuracy: 0.8630\n",
      "Epoch 50/150\n",
      "800/800 [==============================] - 2s 3ms/step - loss: 0.3375 - accuracy: 0.8626\n",
      "Epoch 51/150\n",
      "800/800 [==============================] - 2s 2ms/step - loss: 0.3368 - accuracy: 0.8639: 0s - loss: 0.335\n",
      "Epoch 52/150\n",
      "800/800 [==============================] - 2s 3ms/step - loss: 0.3375 - accuracy: 0.8608\n",
      "Epoch 53/150\n",
      "800/800 [==============================] - 2s 3ms/step - loss: 0.3372 - accuracy: 0.8636\n",
      "Epoch 54/150\n",
      "800/800 [==============================] - 2s 2ms/step - loss: 0.3372 - accuracy: 0.8624\n",
      "Epoch 55/150\n",
      "800/800 [==============================] - 2s 2ms/step - loss: 0.3367 - accuracy: 0.8614\n",
      "Epoch 56/150\n",
      "800/800 [==============================] - 2s 2ms/step - loss: 0.3372 - accuracy: 0.8645\n",
      "Epoch 57/150\n",
      "800/800 [==============================] - 2s 2ms/step - loss: 0.3370 - accuracy: 0.8635\n",
      "Epoch 58/150\n",
      "800/800 [==============================] - 2s 2ms/step - loss: 0.3373 - accuracy: 0.8640\n",
      "Epoch 59/150\n",
      "800/800 [==============================] - 2s 2ms/step - loss: 0.3368 - accuracy: 0.8636\n",
      "Epoch 60/150\n",
      "800/800 [==============================] - 3s 3ms/step - loss: 0.3369 - accuracy: 0.8662\n",
      "Epoch 61/150\n",
      "800/800 [==============================] - 2s 3ms/step - loss: 0.3368 - accuracy: 0.8634\n",
      "Epoch 62/150\n",
      "800/800 [==============================] - 2s 3ms/step - loss: 0.3367 - accuracy: 0.8645\n",
      "Epoch 63/150\n",
      "800/800 [==============================] - 2s 3ms/step - loss: 0.3369 - accuracy: 0.8655\n",
      "Epoch 64/150\n",
      "800/800 [==============================] - 2s 3ms/step - loss: 0.3370 - accuracy: 0.8626: \n",
      "Epoch 65/150\n",
      "800/800 [==============================] - 2s 3ms/step - loss: 0.3365 - accuracy: 0.8618: 0s - loss:\n",
      "Epoch 66/150\n",
      "800/800 [==============================] - 2s 2ms/step - loss: 0.3371 - accuracy: 0.8649\n",
      "Epoch 67/150\n",
      "800/800 [==============================] - 2s 2ms/step - loss: 0.3365 - accuracy: 0.8639: 0s - loss: 0.3343 - accuracy\n",
      "Epoch 68/150\n",
      "800/800 [==============================] - 2s 3ms/step - loss: 0.3368 - accuracy: 0.8614: 0s - l\n",
      "Epoch 69/150\n",
      "800/800 [==============================] - 2s 3ms/step - loss: 0.3362 - accuracy: 0.8618\n",
      "Epoch 70/150\n",
      "800/800 [==============================] - 2s 2ms/step - loss: 0.3365 - accuracy: 0.8634\n",
      "Epoch 71/150\n",
      "800/800 [==============================] - 2s 2ms/step - loss: 0.3364 - accuracy: 0.8629\n",
      "Epoch 72/150\n",
      "800/800 [==============================] - 2s 2ms/step - loss: 0.3370 - accuracy: 0.8636\n",
      "Epoch 73/150\n",
      "800/800 [==============================] - 2s 2ms/step - loss: 0.3362 - accuracy: 0.8649\n",
      "Epoch 74/150\n",
      "800/800 [==============================] - 2s 2ms/step - loss: 0.3361 - accuracy: 0.8622\n",
      "Epoch 75/150\n",
      "800/800 [==============================] - 2s 2ms/step - loss: 0.3363 - accuracy: 0.8644\n",
      "Epoch 76/150\n",
      "800/800 [==============================] - 2s 2ms/step - loss: 0.3362 - accuracy: 0.8631\n",
      "Epoch 77/150\n",
      "800/800 [==============================] - 2s 2ms/step - loss: 0.3359 - accuracy: 0.8634\n",
      "Epoch 78/150\n",
      "800/800 [==============================] - 2s 2ms/step - loss: 0.3364 - accuracy: 0.8625\n"
     ]
    },
    {
     "name": "stdout",
     "output_type": "stream",
     "text": [
      "Epoch 79/150\n",
      "800/800 [==============================] - 2s 3ms/step - loss: 0.3362 - accuracy: 0.8639\n",
      "Epoch 80/150\n",
      "800/800 [==============================] - 2s 2ms/step - loss: 0.3362 - accuracy: 0.8640\n",
      "Epoch 81/150\n",
      "800/800 [==============================] - 2s 2ms/step - loss: 0.3358 - accuracy: 0.8639\n",
      "Epoch 82/150\n",
      "800/800 [==============================] - 2s 2ms/step - loss: 0.3360 - accuracy: 0.8633\n",
      "Epoch 83/150\n",
      "800/800 [==============================] - 3s 3ms/step - loss: 0.3361 - accuracy: 0.8634\n",
      "Epoch 84/150\n",
      "800/800 [==============================] - 3s 3ms/step - loss: 0.3360 - accuracy: 0.8634\n",
      "Epoch 85/150\n",
      "800/800 [==============================] - 3s 4ms/step - loss: 0.3360 - accuracy: 0.8648\n",
      "Epoch 86/150\n",
      "800/800 [==============================] - 2s 2ms/step - loss: 0.3361 - accuracy: 0.8625: 1s - ETA: 0s - loss: 0\n",
      "Epoch 87/150\n",
      "800/800 [==============================] - 2s 3ms/step - loss: 0.3362 - accuracy: 0.8618\n",
      "Epoch 88/150\n",
      "800/800 [==============================] - 3s 4ms/step - loss: 0.3360 - accuracy: 0.8631\n",
      "Epoch 89/150\n",
      "800/800 [==============================] - 2s 3ms/step - loss: 0.3359 - accuracy: 0.8620\n",
      "Epoch 90/150\n",
      "800/800 [==============================] - 2s 3ms/step - loss: 0.3363 - accuracy: 0.8634\n",
      "Epoch 91/150\n",
      "800/800 [==============================] - 2s 3ms/step - loss: 0.3361 - accuracy: 0.8635\n",
      "Epoch 92/150\n",
      "800/800 [==============================] - 3s 4ms/step - loss: 0.3357 - accuracy: 0.8641\n",
      "Epoch 93/150\n",
      "800/800 [==============================] - 3s 3ms/step - loss: 0.3351 - accuracy: 0.8640\n",
      "Epoch 94/150\n",
      "800/800 [==============================] - 2s 3ms/step - loss: 0.3360 - accuracy: 0.8631\n",
      "Epoch 95/150\n",
      "800/800 [==============================] - 2s 3ms/step - loss: 0.3356 - accuracy: 0.8649\n",
      "Epoch 96/150\n",
      "800/800 [==============================] - 2s 3ms/step - loss: 0.3354 - accuracy: 0.8630\n",
      "Epoch 97/150\n",
      "800/800 [==============================] - 2s 3ms/step - loss: 0.3356 - accuracy: 0.8646\n",
      "Epoch 98/150\n",
      "800/800 [==============================] - 2s 3ms/step - loss: 0.3354 - accuracy: 0.8654: 0s - loss: 0\n",
      "Epoch 99/150\n",
      "800/800 [==============================] - 2s 3ms/step - loss: 0.3357 - accuracy: 0.8639\n",
      "Epoch 100/150\n",
      "800/800 [==============================] - 2s 3ms/step - loss: 0.3355 - accuracy: 0.8643: 0s - loss: 0.3369 \n",
      "Epoch 101/150\n",
      "800/800 [==============================] - 2s 3ms/step - loss: 0.3353 - accuracy: 0.8652: 0s - loss: 0.3378 - \n",
      "Epoch 102/150\n",
      "800/800 [==============================] - 2s 3ms/step - loss: 0.3350 - accuracy: 0.8644\n",
      "Epoch 103/150\n",
      "800/800 [==============================] - 2s 3ms/step - loss: 0.3350 - accuracy: 0.8629\n",
      "Epoch 104/150\n",
      "800/800 [==============================] - 2s 3ms/step - loss: 0.3357 - accuracy: 0.8637\n",
      "Epoch 105/150\n",
      "800/800 [==============================] - 2s 3ms/step - loss: 0.3351 - accuracy: 0.8637\n",
      "Epoch 106/150\n",
      "800/800 [==============================] - 2s 3ms/step - loss: 0.3355 - accuracy: 0.8648\n",
      "Epoch 107/150\n",
      "800/800 [==============================] - 2s 3ms/step - loss: 0.3343 - accuracy: 0.8644\n",
      "Epoch 108/150\n",
      "800/800 [==============================] - 2s 3ms/step - loss: 0.3350 - accuracy: 0.8655\n",
      "Epoch 109/150\n",
      "800/800 [==============================] - 2s 3ms/step - loss: 0.3353 - accuracy: 0.8643\n",
      "Epoch 110/150\n",
      "800/800 [==============================] - 2s 3ms/step - loss: 0.3348 - accuracy: 0.8654\n",
      "Epoch 111/150\n",
      "800/800 [==============================] - 2s 3ms/step - loss: 0.3351 - accuracy: 0.8651\n",
      "Epoch 112/150\n",
      "800/800 [==============================] - 2s 3ms/step - loss: 0.3348 - accuracy: 0.8643: 0s - loss: 0\n",
      "Epoch 113/150\n",
      "800/800 [==============================] - 2s 3ms/step - loss: 0.3350 - accuracy: 0.8660\n",
      "Epoch 114/150\n",
      "800/800 [==============================] - 2s 3ms/step - loss: 0.3346 - accuracy: 0.8646\n",
      "Epoch 115/150\n",
      "800/800 [==============================] - 2s 3ms/step - loss: 0.3346 - accuracy: 0.8643: 0s\n",
      "Epoch 116/150\n",
      "800/800 [==============================] - 2s 3ms/step - loss: 0.3346 - accuracy: 0.8639\n",
      "Epoch 117/150\n",
      "800/800 [==============================] - 3s 3ms/step - loss: 0.3344 - accuracy: 0.8645\n",
      "Epoch 118/150\n",
      "800/800 [==============================] - 2s 3ms/step - loss: 0.3345 - accuracy: 0.8643\n",
      "Epoch 119/150\n",
      "800/800 [==============================] - 2s 3ms/step - loss: 0.3348 - accuracy: 0.8650\n",
      "Epoch 120/150\n",
      "800/800 [==============================] - 2s 3ms/step - loss: 0.3351 - accuracy: 0.8655\n",
      "Epoch 121/150\n",
      "800/800 [==============================] - 2s 2ms/step - loss: 0.3345 - accuracy: 0.8635\n",
      "Epoch 122/150\n",
      "800/800 [==============================] - 2s 3ms/step - loss: 0.3346 - accuracy: 0.8645\n",
      "Epoch 123/150\n",
      "800/800 [==============================] - 2s 3ms/step - loss: 0.3343 - accuracy: 0.8646\n",
      "Epoch 124/150\n",
      "800/800 [==============================] - 2s 3ms/step - loss: 0.3342 - accuracy: 0.8641\n",
      "Epoch 125/150\n",
      "800/800 [==============================] - 2s 3ms/step - loss: 0.3343 - accuracy: 0.8633\n",
      "Epoch 126/150\n",
      "800/800 [==============================] - 2s 3ms/step - loss: 0.3343 - accuracy: 0.8651\n",
      "Epoch 127/150\n",
      "800/800 [==============================] - 3s 3ms/step - loss: 0.3345 - accuracy: 0.8636: 1s - ETA: 0s - los\n",
      "Epoch 128/150\n",
      "800/800 [==============================] - 2s 3ms/step - loss: 0.3340 - accuracy: 0.8646\n",
      "Epoch 129/150\n",
      "800/800 [==============================] - 3s 3ms/step - loss: 0.3340 - accuracy: 0.8656\n",
      "Epoch 130/150\n",
      "800/800 [==============================] - 2s 3ms/step - loss: 0.3341 - accuracy: 0.8645\n",
      "Epoch 131/150\n",
      "800/800 [==============================] - 3s 3ms/step - loss: 0.3340 - accuracy: 0.8634\n",
      "Epoch 132/150\n",
      "800/800 [==============================] - 2s 3ms/step - loss: 0.3343 - accuracy: 0.8624\n",
      "Epoch 133/150\n",
      "800/800 [==============================] - 2s 3ms/step - loss: 0.3343 - accuracy: 0.8635\n",
      "Epoch 134/150\n",
      "800/800 [==============================] - 3s 3ms/step - loss: 0.3339 - accuracy: 0.8646: 1s -\n",
      "Epoch 135/150\n",
      "800/800 [==============================] - 2s 3ms/step - loss: 0.3335 - accuracy: 0.8646\n",
      "Epoch 136/150\n",
      "800/800 [==============================] - 2s 3ms/step - loss: 0.3337 - accuracy: 0.8639: 0s - loss: 0.3337 - accuracy: 0.\n",
      "Epoch 137/150\n",
      "800/800 [==============================] - 3s 3ms/step - loss: 0.3337 - accuracy: 0.8648\n",
      "Epoch 138/150\n",
      "800/800 [==============================] - 3s 3ms/step - loss: 0.3325 - accuracy: 0.8640: 0s - loss: 0.3 - ETA: 0s - loss: 0.3283 - accu\n",
      "Epoch 139/150\n",
      "800/800 [==============================] - 2s 3ms/step - loss: 0.3325 - accuracy: 0.8630\n",
      "Epoch 140/150\n",
      "800/800 [==============================] - 2s 3ms/step - loss: 0.3328 - accuracy: 0.8633\n",
      "Epoch 141/150\n",
      "800/800 [==============================] - 5s 7ms/step - loss: 0.3326 - accuracy: 0.8637\n",
      "Epoch 142/150\n",
      "800/800 [==============================] - 3s 4ms/step - loss: 0.3324 - accuracy: 0.8625\n",
      "Epoch 143/150\n",
      "800/800 [==============================] - ETA: 0s - loss: 0.3318 - accuracy: 0.86 - 3s 4ms/step - loss: 0.3318 - accuracy: 0.8639\n",
      "Epoch 144/150\n",
      "800/800 [==============================] - 3s 4ms/step - loss: 0.3321 - accuracy: 0.8618\n",
      "Epoch 145/150\n",
      "800/800 [==============================] - 3s 4ms/step - loss: 0.3313 - accuracy: 0.8626\n",
      "Epoch 146/150\n",
      "800/800 [==============================] - ETA: 0s - loss: 0.3311 - accuracy: 0.86 - 2s 3ms/step - loss: 0.3315 - accuracy: 0.8634\n",
      "Epoch 147/150\n",
      "800/800 [==============================] - 2s 3ms/step - loss: 0.3310 - accuracy: 0.8639: 0s - loss: 0.3320 - accu\n",
      "Epoch 148/150\n",
      "800/800 [==============================] - 2s 3ms/step - loss: 0.3309 - accuracy: 0.8643: 0s - loss: 0 - ETA: 0s - loss: 0.3305 - accuracy\n",
      "Epoch 149/150\n",
      "800/800 [==============================] - 2s 3ms/step - loss: 0.3305 - accuracy: 0.8635: 0s -\n",
      "Epoch 150/150\n",
      "800/800 [==============================] - 2s 3ms/step - loss: 0.3305 - accuracy: 0.8654\n"
     ]
    },
    {
     "data": {
      "text/plain": [
       "<tensorflow.python.keras.callbacks.History at 0x260e71eae80>"
      ]
     },
     "execution_count": 21,
     "metadata": {},
     "output_type": "execute_result"
    }
   ],
   "source": [
    "ann = tf.keras.models.Sequential()\n",
    "ann.add(tf.keras.layers.Dense(units=6, activation='tanh'))\n",
    "ann.add(tf.keras.layers.Dense(units=6, activation='tanh'))\n",
    "ann.add(tf.keras.layers.Dense(units=1, activation='sigmoid'))\n",
    "ann.compile(optimizer = 'adam', loss = 'binary_crossentropy', metrics = ['accuracy'])\n",
    "ann.fit(X_train, y_train, batch_size = 10, epochs = 150)\n"
   ]
  },
  {
   "cell_type": "code",
   "execution_count": 24,
   "metadata": {},
   "outputs": [],
   "source": [
    "y_pred = ann.predict(X_test)\n",
    "y_pred = (y_pred > 0.5)"
   ]
  },
  {
   "cell_type": "code",
   "execution_count": 23,
   "metadata": {},
   "outputs": [
    {
     "name": "stdout",
     "output_type": "stream",
     "text": [
      "[[1518   77]\n",
      " [ 202  203]]\n"
     ]
    }
   ],
   "source": [
    "from sklearn.metrics import confusion_matrix\n",
    "cm = confusion_matrix(y_test, y_pred)\n",
    "print(cm)"
   ]
  },
  {
   "cell_type": "code",
   "execution_count": null,
   "metadata": {},
   "outputs": [],
   "source": []
  }
 ],
 "metadata": {
  "colab": {
   "authorship_tag": "ABX9TyMwbl0jJoa05wuIU59y39H3",
   "collapsed_sections": [],
   "name": "Artificial Neural Network",
   "provenance": []
  },
  "kernelspec": {
   "display_name": "Python 3",
   "language": "python",
   "name": "python3"
  },
  "language_info": {
   "codemirror_mode": {
    "name": "ipython",
    "version": 3
   },
   "file_extension": ".py",
   "mimetype": "text/x-python",
   "name": "python",
   "nbconvert_exporter": "python",
   "pygments_lexer": "ipython3",
   "version": "3.8.8"
  }
 },
 "nbformat": 4,
 "nbformat_minor": 1
}
