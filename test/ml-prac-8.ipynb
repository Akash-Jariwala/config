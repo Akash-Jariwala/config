{
 "cells": [
  {
   "cell_type": "markdown",
   "id": "6c07c42b",
   "metadata": {},
   "source": [
    "## Linear Regression\n",
    "a = (nΣx y - ΣxΣy) / (nΣx2 - (Σx)2) \n",
    "\n",
    "b = (1/n)(Σy - a Σx)"
   ]
  },
  {
   "cell_type": "markdown",
   "id": "669e6db1",
   "metadata": {},
   "source": [
    "### Machine learning model that can help HR team by detecting the bluff of an candidate regarding the negotiation salary wrt the years of experience.\n",
    "\n",
    "[Dataset](https://www.kaggle.com/datasets/alenjoseph/salary-data)"
   ]
  },
  {
   "cell_type": "code",
   "execution_count": 3,
   "id": "bfcb7673",
   "metadata": {},
   "outputs": [],
   "source": [
    "import numpy as np\n",
    "import matplotlib.pyplot as plt\n",
    "import pandas as pd\n",
    "from sklearn.metrics import r2_score"
   ]
  },
  {
   "cell_type": "code",
   "execution_count": 4,
   "id": "e2d82027",
   "metadata": {},
   "outputs": [],
   "source": [
    "# import dataset\n",
    "dataset = pd.read_csv('Salary_Data.csv')\n",
    "x = dataset.iloc[:,:-1].values\n",
    "y = dataset.iloc[:,1].values\n",
    "# dataset.head(3)"
   ]
  },
  {
   "cell_type": "code",
   "execution_count": 5,
   "id": "eee8350e",
   "metadata": {},
   "outputs": [
    {
     "data": {
      "text/plain": [
       "YearsExperience    0\n",
       "Salary             0\n",
       "dtype: int64"
      ]
     },
     "execution_count": 5,
     "metadata": {},
     "output_type": "execute_result"
    }
   ],
   "source": [
    "dataset.isnull().sum()"
   ]
  },
  {
   "cell_type": "code",
   "execution_count": 6,
   "id": "bb9856d3",
   "metadata": {},
   "outputs": [],
   "source": [
    "# splitting dataset into training and test dataset\n",
    "from sklearn.model_selection import train_test_split\n",
    "x_train, x_test, y_train, y_test = train_test_split(x, y, test_size=1/3, random_state=0)"
   ]
  },
  {
   "cell_type": "code",
   "execution_count": 7,
   "id": "cfb7e10e",
   "metadata": {},
   "outputs": [
    {
     "data": {
      "text/plain": [
       "LinearRegression()"
      ]
     },
     "execution_count": 7,
     "metadata": {},
     "output_type": "execute_result"
    }
   ],
   "source": [
    "# model\n",
    "from sklearn.linear_model import LinearRegression\n",
    "regressor = LinearRegression()\n",
    "regressor.fit(x_train,y_train)"
   ]
  },
  {
   "cell_type": "code",
   "execution_count": 8,
   "id": "3cda4b77",
   "metadata": {},
   "outputs": [],
   "source": [
    "# predicting the test set result\n",
    "y_pred = regressor.predict(x_test)"
   ]
  },
  {
   "cell_type": "code",
   "execution_count": 9,
   "id": "fd23c302",
   "metadata": {},
   "outputs": [
    {
     "name": "stdout",
     "output_type": "stream",
     "text": [
      "\n",
      "\t\t\t\t\tAccuracy \n",
      "\n",
      "  \u001b[1m1. Using LinearRegression().score(): \u001b[0m 97.49\n",
      "  \u001b[1m2. Using R2 Score: \u001b[0m 97.49\n"
     ]
    }
   ],
   "source": [
    "acc = regressor.score(x_test,y_test)\n",
    "print(\"\\n\\t\\t\\t\\t\\tAccuracy \")\n",
    "print(\"\\n \",'\\033[1m'+\"1. Using LinearRegression().score(): \"+'\\033[0m',round(acc*100,2))\n",
    "print(\" \",'\\033[1m'+\"2. Using R2 Score: \"+'\\033[0m',round(r2_score(y_test,y_pred)*100,2))"
   ]
  },
  {
   "cell_type": "code",
   "execution_count": 10,
   "id": "957d0931",
   "metadata": {},
   "outputs": [
    {
     "data": {
      "image/png": "[encoded data removed]",
      "text/plain": [
       "<Figure size 432x288 with 1 Axes>"
      ]
     },
     "metadata": {
      "needs_background": "light"
     },
     "output_type": "display_data"
    }
   ],
   "source": [
    "# visualizaing the training set result\n",
    "plt.scatter(x_train,y_train,color=\"red\")\n",
    "plt.plot(x_train,regressor.predict(x_train), color='blue')\n",
    "plt.title(\"Salary Vs Years Of expereince\")\n",
    "plt.xlabel(\"YOE\")\n",
    "plt.ylabel('Salary')\n",
    "plt.show()"
   ]
  },
  {
   "cell_type": "code",
   "execution_count": 11,
   "id": "fd3fa2cd",
   "metadata": {},
   "outputs": [
    {
     "data": {
      "image/png": "[encoded data removed]",
      "text/plain": [
       "<Figure size 432x288 with 1 Axes>"
      ]
     },
     "metadata": {
      "needs_background": "light"
     },
     "output_type": "display_data"
    }
   ],
   "source": [
    "plt.scatter(x_test,y_test, color='red')\n",
    "plt.plot(x_train,regressor.predict(x_train), color=\"blue\")\n",
    "plt.title(\"Salary Vs YOE Test Viz.\")\n",
    "plt.xlabel('YOE')\n",
    "plt.ylabel('Salary')\n",
    "plt.show()"
   ]
  },
  {
   "cell_type": "code",
   "execution_count": null,
   "id": "64c38f61",
   "metadata": {},
   "outputs": [],
   "source": []
  },
  {
   "cell_type": "code",
   "execution_count": 12,
   "id": "8879fb19",
   "metadata": {},
   "outputs": [],
   "source": [
    "def predict_salary(years_experience):\n",
    "    return round(regressor.predict([[years_experience]])[0],2)"
   ]
  },
  {
   "cell_type": "code",
   "execution_count": 13,
   "id": "e7314490",
   "metadata": {},
   "outputs": [
    {
     "name": "stdout",
     "output_type": "stream",
     "text": [
      "Enter your experience: 5\n",
      "Approx. Salary:  73545.9\n"
     ]
    }
   ],
   "source": [
    "experience = float(input(\"Enter your experience: \"))\n",
    "print(\"Approx. Salary: \",predict_salary(experience))"
   ]
  },
  {
   "cell_type": "code",
   "execution_count": null,
   "id": "37f22348",
   "metadata": {},
   "outputs": [],
   "source": []
  },
  {
   "cell_type": "markdown",
   "id": "c468174b",
   "metadata": {},
   "source": [
    "## Multiple Linear Regression\n",
    "\n",
    "This dataset has data collected from New York, California and Florida about 50 business Startups \"17 in each state\". The variables used in the dataset are Profit, R&D spending, Administration Spending, and Marketing Spending.\n",
    "\n",
    "_[dataset](https://www.kaggle.com/datasets/farhanmd29/50-startups)_"
   ]
  },
  {
   "cell_type": "code",
   "execution_count": 1,
   "id": "fd0d8b47",
   "metadata": {},
   "outputs": [],
   "source": [
    "import numpy as np\n",
    "import pandas as pd\n",
    "from sklearn.model_selection import train_test_split\n",
    "from sklearn.linear_model import LinearRegression\n",
    "from sklearn.metrics import r2_score"
   ]
  },
  {
   "cell_type": "code",
   "execution_count": 2,
   "id": "e03eadbd",
   "metadata": {},
   "outputs": [
    {
     "data": {
      "text/html": [
       "<div>\n",
       "<style scoped>\n",
       "    .dataframe tbody tr th:only-of-type {\n",
       "        vertical-align: middle;\n",
       "    }\n",
       "\n",
       "    .dataframe tbody tr th {\n",
       "        vertical-align: top;\n",
       "    }\n",
       "\n",
       "    .dataframe thead th {\n",
       "        text-align: right;\n",
       "    }\n",
       "</style>\n",
       "<table border=\"1\" class=\"dataframe\">\n",
       "  <thead>\n",
       "    <tr style=\"text-align: right;\">\n",
       "      <th></th>\n",
       "      <th>R&amp;D Spend</th>\n",
       "      <th>Administration</th>\n",
       "      <th>Marketing Spend</th>\n",
       "      <th>State</th>\n",
       "      <th>Profit</th>\n",
       "    </tr>\n",
       "  </thead>\n",
       "  <tbody>\n",
       "    <tr>\n",
       "      <th>0</th>\n",
       "      <td>165349.20</td>\n",
       "      <td>136897.80</td>\n",
       "      <td>471784.10</td>\n",
       "      <td>New York</td>\n",
       "      <td>192261.83</td>\n",
       "    </tr>\n",
       "    <tr>\n",
       "      <th>1</th>\n",
       "      <td>162597.70</td>\n",
       "      <td>151377.59</td>\n",
       "      <td>443898.53</td>\n",
       "      <td>California</td>\n",
       "      <td>191792.06</td>\n",
       "    </tr>\n",
       "    <tr>\n",
       "      <th>2</th>\n",
       "      <td>153441.51</td>\n",
       "      <td>101145.55</td>\n",
       "      <td>407934.54</td>\n",
       "      <td>Florida</td>\n",
       "      <td>191050.39</td>\n",
       "    </tr>\n",
       "  </tbody>\n",
       "</table>\n",
       "</div>"
      ],
      "text/plain": [
       "   R&D Spend  Administration  Marketing Spend       State     Profit\n",
       "0  165349.20       136897.80        471784.10    New York  192261.83\n",
       "1  162597.70       151377.59        443898.53  California  191792.06\n",
       "2  153441.51       101145.55        407934.54     Florida  191050.39"
      ]
     },
     "execution_count": 2,
     "metadata": {},
     "output_type": "execute_result"
    }
   ],
   "source": [
    "# importing dataset\n",
    "dataset = pd.read_csv('50_Startups.csv')\n",
    "dataset.head(3)"
   ]
  },
  {
   "cell_type": "code",
   "execution_count": 3,
   "id": "02dcbc33",
   "metadata": {},
   "outputs": [],
   "source": [
    "# # separating out x and y\n",
    "# x = dataset.iloc[:,:4].values\n",
    "# y = dataset.iloc[:,4:5].values"
   ]
  },
  {
   "cell_type": "code",
   "execution_count": 4,
   "id": "1b1ba8b8",
   "metadata": {},
   "outputs": [],
   "source": [
    "# from sklearn.compose import ColumnTransformer\n",
    "# import numpy as np\n",
    "# from sklearn.preprocessing import OneHotEncoder\n",
    "\n",
    "# ct = ColumnTransformer(transformers=[('encoder', OneHotEncoder(), [3])], remainder='passthrough')\n",
    "# x = np.array(ct.fit_transform(x))"
   ]
  },
  {
   "cell_type": "code",
   "execution_count": 5,
   "id": "b593270b",
   "metadata": {},
   "outputs": [],
   "source": [
    "# # splitting out dataset into train and test\n",
    "# x_train,x_test,y_train,y_test = train_test_split(x,y,test_size=0.2)"
   ]
  },
  {
   "cell_type": "code",
   "execution_count": 6,
   "id": "d878d4e8",
   "metadata": {},
   "outputs": [],
   "source": [
    "# # avoid 1st column\n",
    "# x = x[:,1:]"
   ]
  },
  {
   "cell_type": "code",
   "execution_count": 7,
   "id": "0c4463b8",
   "metadata": {},
   "outputs": [],
   "source": [
    "# regressor = LinearRegression()\n",
    "# regressor.fit(x_train,y_train)"
   ]
  },
  {
   "cell_type": "code",
   "execution_count": 8,
   "id": "30902148",
   "metadata": {},
   "outputs": [],
   "source": [
    "# y_pred = regressor.predict(x_test)\n",
    "# # y_pred"
   ]
  },
  {
   "cell_type": "code",
   "execution_count": 9,
   "id": "caa65d3c",
   "metadata": {},
   "outputs": [],
   "source": [
    "# acc = regressor.score(x_test,y_test)\n",
    "# print(\"\\n\\t\\t\\t\\t\\tAccuracy \")\n",
    "# print(\"\\n \",'\\033[1m'+\"1. Using LinearRegression().score(): \"+'\\033[0m',round(acc*100,2))\n",
    "# print(\" \",'\\033[1m'+\"2. Using R2 Score: \"+'\\033[0m',round(r2_score(y_test,y_pred)*100,2))"
   ]
  },
  {
   "cell_type": "markdown",
   "id": "05553e43",
   "metadata": {},
   "source": [
    "##### model-2"
   ]
  },
  {
   "cell_type": "code",
   "execution_count": 10,
   "id": "e8707893",
   "metadata": {},
   "outputs": [
    {
     "data": {
      "text/html": [
       "<div>\n",
       "<style scoped>\n",
       "    .dataframe tbody tr th:only-of-type {\n",
       "        vertical-align: middle;\n",
       "    }\n",
       "\n",
       "    .dataframe tbody tr th {\n",
       "        vertical-align: top;\n",
       "    }\n",
       "\n",
       "    .dataframe thead th {\n",
       "        text-align: right;\n",
       "    }\n",
       "</style>\n",
       "<table border=\"1\" class=\"dataframe\">\n",
       "  <thead>\n",
       "    <tr style=\"text-align: right;\">\n",
       "      <th></th>\n",
       "      <th>R&amp;D Spend</th>\n",
       "      <th>Administration</th>\n",
       "      <th>Marketing Spend</th>\n",
       "      <th>Profit</th>\n",
       "      <th>California</th>\n",
       "      <th>Florida</th>\n",
       "      <th>New York</th>\n",
       "    </tr>\n",
       "  </thead>\n",
       "  <tbody>\n",
       "    <tr>\n",
       "      <th>0</th>\n",
       "      <td>165349.20</td>\n",
       "      <td>136897.80</td>\n",
       "      <td>471784.10</td>\n",
       "      <td>192261.83</td>\n",
       "      <td>0</td>\n",
       "      <td>0</td>\n",
       "      <td>1</td>\n",
       "    </tr>\n",
       "    <tr>\n",
       "      <th>1</th>\n",
       "      <td>162597.70</td>\n",
       "      <td>151377.59</td>\n",
       "      <td>443898.53</td>\n",
       "      <td>191792.06</td>\n",
       "      <td>1</td>\n",
       "      <td>0</td>\n",
       "      <td>0</td>\n",
       "    </tr>\n",
       "    <tr>\n",
       "      <th>2</th>\n",
       "      <td>153441.51</td>\n",
       "      <td>101145.55</td>\n",
       "      <td>407934.54</td>\n",
       "      <td>191050.39</td>\n",
       "      <td>0</td>\n",
       "      <td>1</td>\n",
       "      <td>0</td>\n",
       "    </tr>\n",
       "  </tbody>\n",
       "</table>\n",
       "</div>"
      ],
      "text/plain": [
       "   R&D Spend  Administration  Marketing Spend     Profit  California  Florida  \\\n",
       "0  165349.20       136897.80        471784.10  192261.83           0        0   \n",
       "1  162597.70       151377.59        443898.53  191792.06           1        0   \n",
       "2  153441.51       101145.55        407934.54  191050.39           0        1   \n",
       "\n",
       "   New York  \n",
       "0         1  \n",
       "1         0  \n",
       "2         0  "
      ]
     },
     "execution_count": 10,
     "metadata": {},
     "output_type": "execute_result"
    }
   ],
   "source": [
    "dummies = pd.get_dummies(dataset.State) #type of OHE\n",
    "dataset1 = pd.concat([dataset,dummies],axis='columns')\n",
    "dataset1.drop(columns=['State'],inplace=True)\n",
    "dataset1.head(3)"
   ]
  },
  {
   "cell_type": "code",
   "execution_count": 11,
   "id": "3a0ea659",
   "metadata": {},
   "outputs": [],
   "source": [
    "x = dataset1.drop(\"Profit\",axis='columns')\n",
    "y = dataset1['Profit']"
   ]
  },
  {
   "cell_type": "code",
   "execution_count": 12,
   "id": "c209d75d",
   "metadata": {},
   "outputs": [],
   "source": [
    "from sklearn.model_selection import train_test_split\n",
    "x_train,x_test, y_train, y_test = train_test_split(x,y,test_size=0.2,random_state=10)"
   ]
  },
  {
   "cell_type": "code",
   "execution_count": 16,
   "id": "fbfff027",
   "metadata": {},
   "outputs": [
    {
     "data": {
      "text/plain": [
       "array([ 89173.72784099, 110171.90144925,  65822.47758052,  70785.21142577,\n",
       "        47652.12694016, 116303.59665194, 172176.28003542, 100657.06254099,\n",
       "       160473.2526588 , 158835.6224623 ])"
      ]
     },
     "execution_count": 16,
     "metadata": {},
     "output_type": "execute_result"
    }
   ],
   "source": [
    "from sklearn.linear_model import LinearRegression\n",
    "\n",
    "regressor = LinearRegression()\n",
    "regressor.fit(x_train, y_train)\n",
    "y_pred = regressor.predict(x_test)\n",
    "y_pred"
   ]
  },
  {
   "cell_type": "code",
   "execution_count": 17,
   "id": "a4d0d3eb",
   "metadata": {},
   "outputs": [
    {
     "name": "stdout",
     "output_type": "stream",
     "text": [
      "\n",
      "\t\t\t\t\tAccuracy \n",
      "\n",
      "  \u001b[1m1. Using LinearRegression().score(): \u001b[0m 99.01\n",
      "  \u001b[1m2. Using R2 Score: \u001b[0m 99.01\n"
     ]
    }
   ],
   "source": [
    "acc = regressor.score(x_test,y_test)\n",
    "print(\"\\n\\t\\t\\t\\t\\tAccuracy \")\n",
    "print(\"\\n \",'\\033[1m'+\"1. Using LinearRegression().score(): \"+'\\033[0m',round(acc*100,2))\n",
    "print(\" \",'\\033[1m'+\"2. Using R2 Score: \"+'\\033[0m',round(r2_score(y_test,y_pred)*100,2))"
   ]
  },
  {
   "cell_type": "code",
   "execution_count": 23,
   "id": "431c2206",
   "metadata": {},
   "outputs": [],
   "source": [
    "def predict_profit(state,rnd_spend,admin_spend,marketing_spend):\n",
    "    loc_index = np.where(x.columns==state)[0][0]\n",
    "\n",
    "    X = np.zeros(len(x.columns))\n",
    "    \n",
    "    X[0] = rnd_spend\n",
    "    X[1] = admin_spend\n",
    "    X[2] = marketing_spend\n",
    "    X[loc_index] = 1\n",
    "\n",
    "    return round(regressor.predict([X])[0],2)"
   ]
  },
  {
   "cell_type": "code",
   "execution_count": 25,
   "id": "e6e4b3df",
   "metadata": {},
   "outputs": [
    {
     "name": "stdout",
     "output_type": "stream",
     "text": [
      "\n",
      "\t\t\t\t\t Startup Profit Prediction\n",
      "\n",
      "\n",
      "Enter Following Spends\n",
      "\n",
      "1 -> California\n",
      "2 -> Florida\n",
      "3 -> New York\n",
      "\u001b[1m\n",
      "\n",
      "Enter State: 1\n",
      "\u001b[0m\n",
      "R&D Spend: 44069.95\n",
      "Administration: 51283.14\n",
      "Marketing 197029.42\n",
      "-------------------------------------------------------------------------\n",
      "\u001b[1m\t\t\t\t EXPECTED PROFIT:  89173.73 \u001b[0m\n",
      "-------------------------------------------------------------------------\n"
     ]
    }
   ],
   "source": [
    "print(\"\\n\\t\\t\\t\\t\\t Startup Profit Prediction\")\n",
    "print(\"\\n\\nEnter Following Spends\")\n",
    "\n",
    "print(\"\\n1 -> California\\n2 -> Florida\\n3 -> New York\")\n",
    "\n",
    "choice = int(input(\"\\nEnter State: \"))\n",
    "\n",
    "if choice==1:\n",
    "    state = \"California\"\n",
    "elif choice==2:\n",
    "    state = \"Florida\"\n",
    "else:\n",
    "    state = \"New York\"\n",
    "    \n",
    "rnd_spend = float(input(\"R&D Spend: \"))\n",
    "admin_spend = float(input(\"Administration: \"))\n",
    "marketing_spend = float(input(\"Marketing \"))\n",
    "\n",
    "print(\"-------------------------------------------------------------------------\")\n",
    "print('\\033[1m'+\"\\t\\t\\t\\t\",\"EXPECTED PROFIT: \",predict_profit(state,rnd_spend,admin_spend,marketing_spend),'\\033[0m')\n",
    "print(\"-------------------------------------------------------------------------\")"
   ]
  },
  {
   "cell_type": "code",
   "execution_count": null,
   "id": "6af32237",
   "metadata": {},
   "outputs": [],
   "source": []
  },
  {
   "cell_type": "markdown",
   "id": "87097309",
   "metadata": {},
   "source": [
    "# Logistic Regression Model\n",
    "\n",
    "**For this section we will use *'Social_Network_Ads.csv'* dataset. Which represents sell of car accroding to 'age' and 'salary'.**"
   ]
  },
  {
   "cell_type": "code",
   "execution_count": 2,
   "id": "ccf79ed8",
   "metadata": {},
   "outputs": [],
   "source": [
    "from sklearn.linear_model import LogisticRegression\n",
    "from sklearn.model_selection import train_test_split\n",
    "from sklearn.preprocessing import StandardScaler\n",
    "\n",
    "import pandas as pd\n",
    "import numpy as np"
   ]
  },
  {
   "cell_type": "code",
   "execution_count": 3,
   "id": "075f736e",
   "metadata": {},
   "outputs": [
    {
     "data": {
      "text/html": [
       "<div>\n",
       "<style scoped>\n",
       "    .dataframe tbody tr th:only-of-type {\n",
       "        vertical-align: middle;\n",
       "    }\n",
       "\n",
       "    .dataframe tbody tr th {\n",
       "        vertical-align: top;\n",
       "    }\n",
       "\n",
       "    .dataframe thead th {\n",
       "        text-align: right;\n",
       "    }\n",
       "</style>\n",
       "<table border=\"1\" class=\"dataframe\">\n",
       "  <thead>\n",
       "    <tr style=\"text-align: right;\">\n",
       "      <th></th>\n",
       "      <th>User ID</th>\n",
       "      <th>Gender</th>\n",
       "      <th>Age</th>\n",
       "      <th>EstimatedSalary</th>\n",
       "      <th>Purchased</th>\n",
       "    </tr>\n",
       "  </thead>\n",
       "  <tbody>\n",
       "    <tr>\n",
       "      <th>0</th>\n",
       "      <td>15624510</td>\n",
       "      <td>Male</td>\n",
       "      <td>19</td>\n",
       "      <td>19000</td>\n",
       "      <td>0</td>\n",
       "    </tr>\n",
       "    <tr>\n",
       "      <th>1</th>\n",
       "      <td>15810944</td>\n",
       "      <td>Male</td>\n",
       "      <td>35</td>\n",
       "      <td>20000</td>\n",
       "      <td>0</td>\n",
       "    </tr>\n",
       "    <tr>\n",
       "      <th>2</th>\n",
       "      <td>15668575</td>\n",
       "      <td>Female</td>\n",
       "      <td>26</td>\n",
       "      <td>43000</td>\n",
       "      <td>0</td>\n",
       "    </tr>\n",
       "    <tr>\n",
       "      <th>3</th>\n",
       "      <td>15603246</td>\n",
       "      <td>Female</td>\n",
       "      <td>27</td>\n",
       "      <td>57000</td>\n",
       "      <td>0</td>\n",
       "    </tr>\n",
       "    <tr>\n",
       "      <th>4</th>\n",
       "      <td>15804002</td>\n",
       "      <td>Male</td>\n",
       "      <td>19</td>\n",
       "      <td>76000</td>\n",
       "      <td>0</td>\n",
       "    </tr>\n",
       "    <tr>\n",
       "      <th>...</th>\n",
       "      <td>...</td>\n",
       "      <td>...</td>\n",
       "      <td>...</td>\n",
       "      <td>...</td>\n",
       "      <td>...</td>\n",
       "    </tr>\n",
       "    <tr>\n",
       "      <th>395</th>\n",
       "      <td>15691863</td>\n",
       "      <td>Female</td>\n",
       "      <td>46</td>\n",
       "      <td>41000</td>\n",
       "      <td>1</td>\n",
       "    </tr>\n",
       "    <tr>\n",
       "      <th>396</th>\n",
       "      <td>15706071</td>\n",
       "      <td>Male</td>\n",
       "      <td>51</td>\n",
       "      <td>23000</td>\n",
       "      <td>1</td>\n",
       "    </tr>\n",
       "    <tr>\n",
       "      <th>397</th>\n",
       "      <td>15654296</td>\n",
       "      <td>Female</td>\n",
       "      <td>50</td>\n",
       "      <td>20000</td>\n",
       "      <td>1</td>\n",
       "    </tr>\n",
       "    <tr>\n",
       "      <th>398</th>\n",
       "      <td>15755018</td>\n",
       "      <td>Male</td>\n",
       "      <td>36</td>\n",
       "      <td>33000</td>\n",
       "      <td>0</td>\n",
       "    </tr>\n",
       "    <tr>\n",
       "      <th>399</th>\n",
       "      <td>15594041</td>\n",
       "      <td>Female</td>\n",
       "      <td>49</td>\n",
       "      <td>36000</td>\n",
       "      <td>1</td>\n",
       "    </tr>\n",
       "  </tbody>\n",
       "</table>\n",
       "<p>400 rows × 5 columns</p>\n",
       "</div>"
      ],
      "text/plain": [
       "      User ID  Gender  Age  EstimatedSalary  Purchased\n",
       "0    15624510    Male   19            19000          0\n",
       "1    15810944    Male   35            20000          0\n",
       "2    15668575  Female   26            43000          0\n",
       "3    15603246  Female   27            57000          0\n",
       "4    15804002    Male   19            76000          0\n",
       "..        ...     ...  ...              ...        ...\n",
       "395  15691863  Female   46            41000          1\n",
       "396  15706071    Male   51            23000          1\n",
       "397  15654296  Female   50            20000          1\n",
       "398  15755018    Male   36            33000          0\n",
       "399  15594041  Female   49            36000          1\n",
       "\n",
       "[400 rows x 5 columns]"
      ]
     },
     "execution_count": 3,
     "metadata": {},
     "output_type": "execute_result"
    }
   ],
   "source": [
    "dataset = pd.read_csv('Social_Network_Ads.csv')\n",
    "dataset"
   ]
  },
  {
   "cell_type": "code",
   "execution_count": 43,
   "id": "4e692a5e",
   "metadata": {},
   "outputs": [],
   "source": [
    "x = dataset.iloc[:,[2,3]].values\n",
    "y = dataset.iloc[:,4].values"
   ]
  },
  {
   "cell_type": "code",
   "execution_count": 44,
   "id": "7d4aa2ce",
   "metadata": {},
   "outputs": [],
   "source": [
    "# splitting data into train and test\n",
    "x_train,x_test,y_train,y_test = train_test_split(x,y,test_size=0.2,random_state=0)"
   ]
  },
  {
   "cell_type": "code",
   "execution_count": 9,
   "id": "13362d7d",
   "metadata": {},
   "outputs": [],
   "source": [
    "# Feature Scalling\n",
    "sc_x = StandardScaler()\n",
    "x_train = sc_x.fit_transform(x_train)\n",
    "x_test = sc_x.fit_transform(x_test)"
   ]
  },
  {
   "cell_type": "code",
   "execution_count": 10,
   "id": "734660e1",
   "metadata": {},
   "outputs": [
    {
     "data": {
      "text/plain": [
       "LogisticRegression(random_state=0)"
      ]
     },
     "execution_count": 10,
     "metadata": {},
     "output_type": "execute_result"
    }
   ],
   "source": [
    "# Algorithm Implementation\n",
    "lr = LogisticRegression(random_state=0)\n",
    "lr.fit(x_train,y_train)"
   ]
  },
  {
   "cell_type": "code",
   "execution_count": 11,
   "id": "e3cdb53d",
   "metadata": {},
   "outputs": [
    {
     "data": {
      "text/plain": [
       "array([0, 0, 0, 0, 0, 0, 0, 1, 0, 1, 0, 0, 0, 1, 0, 1, 0, 0, 1, 0, 0, 1,\n",
       "       0, 1, 0, 1, 0, 0, 0, 0, 0, 0, 1, 0, 0, 0, 0, 0, 0, 1, 0, 0, 0, 0,\n",
       "       1, 0, 0, 1, 0, 1, 1, 0, 0, 1, 1, 0, 0, 0, 1, 0, 0, 1, 0, 1, 0, 1,\n",
       "       0, 0, 0, 1, 1, 0, 0, 0, 0, 0, 1, 0, 1, 1], dtype=int64)"
      ]
     },
     "execution_count": 11,
     "metadata": {},
     "output_type": "execute_result"
    }
   ],
   "source": [
    "lr.predict(x_test)"
   ]
  },
  {
   "cell_type": "markdown",
   "id": "4c966c85",
   "metadata": {},
   "source": [
    "## model-2"
   ]
  },
  {
   "cell_type": "code",
   "execution_count": 4,
   "id": "eb616706",
   "metadata": {},
   "outputs": [],
   "source": [
    "from sklearn.pipeline import Pipeline"
   ]
  },
  {
   "cell_type": "code",
   "execution_count": 5,
   "id": "4603713a",
   "metadata": {},
   "outputs": [],
   "source": [
    "x = dataset[['Age','EstimatedSalary']]\n",
    "y = dataset['Purchased']"
   ]
  },
  {
   "cell_type": "code",
   "execution_count": 6,
   "id": "9522a115",
   "metadata": {},
   "outputs": [],
   "source": [
    "# splitting data into train and test\n",
    "x_train,x_test,y_train,y_test = train_test_split(x,y,test_size=0.2,random_state=0)"
   ]
  },
  {
   "cell_type": "code",
   "execution_count": 7,
   "id": "f9504f79",
   "metadata": {},
   "outputs": [],
   "source": [
    "# define pipeline\n",
    "steps = [('standard_scaler',StandardScaler()),\n",
    "        ('lr',LogisticRegression(random_state=0))]\n",
    "\n",
    "pipe = Pipeline(steps)"
   ]
  },
  {
   "cell_type": "code",
   "execution_count": 8,
   "id": "7abde852",
   "metadata": {},
   "outputs": [
    {
     "data": {
      "text/plain": [
       "Pipeline(steps=[('standard_scaler', StandardScaler()),\n",
       "                ('lr', LogisticRegression(random_state=0))])"
      ]
     },
     "execution_count": 8,
     "metadata": {},
     "output_type": "execute_result"
    }
   ],
   "source": [
    "pipe.fit(x_train, y_train)"
   ]
  },
  {
   "cell_type": "code",
   "execution_count": 9,
   "id": "73881365",
   "metadata": {},
   "outputs": [
    {
     "data": {
      "text/plain": [
       "LogisticRegression(random_state=0)"
      ]
     },
     "execution_count": 9,
     "metadata": {},
     "output_type": "execute_result"
    }
   ],
   "source": [
    "# Algorithm Implementation\n",
    "lr = LogisticRegression(random_state=0)\n",
    "lr.fit(x_train,y_train)"
   ]
  },
  {
   "cell_type": "code",
   "execution_count": 10,
   "id": "54be0c04",
   "metadata": {},
   "outputs": [],
   "source": [
    "def predict(age,salary):\n",
    "    return pipe.predict([[age,salary]])[0]"
   ]
  },
  {
   "cell_type": "code",
   "execution_count": 16,
   "id": "d42044f5",
   "metadata": {},
   "outputs": [
    {
     "name": "stdout",
     "output_type": "stream",
     "text": [
      "Enter Age: 45\n",
      "Enter Salary: 20000\n",
      "Will NOT BUY\n"
     ]
    }
   ],
   "source": [
    "age = int(input(\"Enter Age: \"))\n",
    "salary = int(input(\"Enter Salary: \"))\n",
    "\n",
    "if predict(age,salary):\n",
    "    print(\"Will Probably BUY\")\n",
    "else:\n",
    "    print(\"Will NOT BUY\")"
   ]
  },
  {
   "cell_type": "code",
   "execution_count": null,
   "id": "4a182632",
   "metadata": {},
   "outputs": [],
   "source": []
  },
  {
   "cell_type": "code",
   "execution_count": null,
   "id": "764cecd3",
   "metadata": {},
   "outputs": [],
   "source": []
  },
  {
   "cell_type": "markdown",
   "id": "3657f344",
   "metadata": {},
   "source": [
    "# Polynomial Regression"
   ]
  },
  {
   "cell_type": "markdown",
   "id": "3d8ba5b5",
   "metadata": {},
   "source": [
    "### Machine learning model that can help HR team by detecting the bluff of an candidate regarding the negotiation salary wrt the years of experience.\n",
    "\n",
    "[Dataset](https://www.kaggle.com/datasets/alenjoseph/salary-data)"
   ]
  },
  {
   "cell_type": "code",
   "execution_count": 22,
   "id": "c08bbb45",
   "metadata": {},
   "outputs": [],
   "source": [
    "import numpy as np\n",
    "import pandas as pd\n",
    "from sklearn.metrics import r2_score\n",
    "from sklearn.model_selection import train_test_split\n",
    "from sklearn.preprocessing import PolynomialFeatures\n",
    "from sklearn.linear_model import LinearRegression\n",
    "from sklearn.pipeline import Pipeline"
   ]
  },
  {
   "cell_type": "code",
   "execution_count": 3,
   "id": "7236d0f3",
   "metadata": {},
   "outputs": [],
   "source": [
    "# import dataset\n",
    "dataset = pd.read_csv('Salary_Data.csv')"
   ]
  },
  {
   "cell_type": "code",
   "execution_count": 4,
   "id": "67b0806f",
   "metadata": {},
   "outputs": [],
   "source": [
    "x = dataset.drop(columns=['Salary'])\n",
    "y = dataset.drop(columns=['YearsExperience'])"
   ]
  },
  {
   "cell_type": "code",
   "execution_count": 5,
   "id": "4556f6cb",
   "metadata": {},
   "outputs": [],
   "source": [
    "x_train,x_test,y_train,y_test = train_test_split(x,y,test_size=0.2, random_state=0)"
   ]
  },
  {
   "cell_type": "code",
   "execution_count": 7,
   "id": "9442a30a",
   "metadata": {},
   "outputs": [
    {
     "data": {
      "text/plain": [
       "LinearRegression()"
      ]
     },
     "execution_count": 7,
     "metadata": {},
     "output_type": "execute_result"
    }
   ],
   "source": [
    "poly = PolynomialFeatures(degree=2,include_bias=True)\n",
    "x_trained_transformed = poly.fit_transform(x_train)\n",
    "x_test_transfromed = poly.fit_transform(x_test)\n",
    "\n",
    "# include bias parameter.\n",
    "lr = LinearRegression()\n",
    "lr.fit(x_trained_transformed, y_train)"
   ]
  },
  {
   "cell_type": "code",
   "execution_count": 11,
   "id": "f1fb53c4",
   "metadata": {},
   "outputs": [],
   "source": [
    "y_predicted = lr.predict(x_test_transfromed)"
   ]
  },
  {
   "cell_type": "code",
   "execution_count": 13,
   "id": "33134ef8",
   "metadata": {},
   "outputs": [
    {
     "name": "stdout",
     "output_type": "stream",
     "text": [
      "0.9882197351491802\n"
     ]
    }
   ],
   "source": [
    "print(r2_score(y_test,y_predicted))"
   ]
  },
  {
   "cell_type": "code",
   "execution_count": 21,
   "id": "ee47b835",
   "metadata": {},
   "outputs": [
    {
     "data": {
      "text/plain": [
       "array([[45463.51458039]])"
      ]
     },
     "execution_count": 21,
     "metadata": {},
     "output_type": "execute_result"
    }
   ],
   "source": [
    "lr.predict(poly.fit_transform([[2]]))"
   ]
  },
  {
   "cell_type": "code",
   "execution_count": 23,
   "id": "4023f9a8",
   "metadata": {},
   "outputs": [],
   "source": [
    "steps = [('poly',PolynomialFeatures(degree=2,include_bias=True)),\n",
    "                  (\"lr\",LinearRegression())]"
   ]
  },
  {
   "cell_type": "code",
   "execution_count": 24,
   "id": "59a98242",
   "metadata": {},
   "outputs": [],
   "source": [
    "pipe = Pipeline(steps)"
   ]
  },
  {
   "cell_type": "code",
   "execution_count": 25,
   "id": "f0650059",
   "metadata": {},
   "outputs": [
    {
     "data": {
      "text/plain": [
       "Pipeline(steps=[('poly', PolynomialFeatures()), ('lr', LinearRegression())])"
      ]
     },
     "execution_count": 25,
     "metadata": {},
     "output_type": "execute_result"
    }
   ],
   "source": [
    "pipe.fit(x_train,y_train)"
   ]
  },
  {
   "cell_type": "code",
   "execution_count": 26,
   "id": "84a776bc",
   "metadata": {},
   "outputs": [],
   "source": [
    "def predict(experience):\n",
    "    return pipe.predict([[experience]])"
   ]
  },
  {
   "cell_type": "code",
   "execution_count": 37,
   "id": "7d824c4c",
   "metadata": {},
   "outputs": [
    {
     "name": "stdout",
     "output_type": "stream",
     "text": [
      "Enter experience: 2\n",
      "\n",
      "---------------------------------------------------------\n",
      "\t\tApproximate Salary:  45463.51\n",
      "---------------------------------------------------------\n"
     ]
    }
   ],
   "source": [
    "experience = float(input(\"Enter experience: \"))\n",
    "print(\"\\n---------------------------------------------------------\")\n",
    "print('\\033[1m'+\"\\t\\tApproximate Salary: \",round(predict(experience)[0][0],2))\n",
    "print(\"---------------------------------------------------------\")"
   ]
  },
  {
   "cell_type": "code",
   "execution_count": null,
   "id": "574552ba",
   "metadata": {},
   "outputs": [],
   "source": []
  }
 ],
 "metadata": {
  "kernelspec": {
   "display_name": "Python 3",
   "language": "python",
   "name": "python3"
  },
  "language_info": {
   "codemirror_mode": {
    "name": "ipython",
    "version": 3
   },
   "file_extension": ".py",
   "mimetype": "text/x-python",
   "name": "python",
   "nbconvert_exporter": "python",
   "pygments_lexer": "ipython3",
   "version": "3.8.8"
  }
 },
 "nbformat": 4,
 "nbformat_minor": 5
}
