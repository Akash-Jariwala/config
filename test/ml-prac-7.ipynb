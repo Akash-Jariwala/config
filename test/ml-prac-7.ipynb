{
 "cells": [
  {
   "cell_type": "markdown",
   "id": "713479d4",
   "metadata": {},
   "source": [
    "## 1 Demonstrate the following using sklearn library:\n",
    "\n",
    "### a) Holdout Method \n",
    "Hold-out is when you split up your dataset into a ‘train’ and ‘test’ set. The training set is what the model is trained on, and the test set is used to see how well that model performs on unseen data. A common split when using the hold-out method is using 80% of data for training and the remaining 20% of the data for testing.\n",
    "\n",
    "[dataset](https://www.kaggle.com/datasets/uciml/iris)"
   ]
  },
  {
   "cell_type": "code",
   "execution_count": 5,
   "id": "c6dcbb92",
   "metadata": {},
   "outputs": [],
   "source": [
    "import pandas as pd\n",
    "from sklearn.model_selection import train_test_split"
   ]
  },
  {
   "cell_type": "code",
   "execution_count": 5,
   "id": "fd2349ee",
   "metadata": {},
   "outputs": [
    {
     "name": "stdout",
     "output_type": "stream",
     "text": [
      "Total Rows:  150\n"
     ]
    }
   ],
   "source": [
    "dataset = pd.read_csv('Iris.csv')\n",
    "print(\"Total Rows: \",dataset.shape[0])"
   ]
  },
  {
   "cell_type": "code",
   "execution_count": 7,
   "id": "cb5ccdc9",
   "metadata": {},
   "outputs": [],
   "source": [
    "x = dataset.drop(columns=['Species'])\n",
    "y = dataset.Species"
   ]
  },
  {
   "cell_type": "code",
   "execution_count": 8,
   "id": "1cc7141c",
   "metadata": {},
   "outputs": [],
   "source": [
    "x_train, x_test, y_rain, y_test = train_test_split(x,y,test_size=0.2)"
   ]
  },
  {
   "cell_type": "code",
   "execution_count": 11,
   "id": "34eed790",
   "metadata": {},
   "outputs": [
    {
     "name": "stdout",
     "output_type": "stream",
     "text": [
      "Train Size:  120\n",
      "Test Size:  30\n"
     ]
    }
   ],
   "source": [
    "print(\"Train Size: \",x_train.shape[0])\n",
    "print(\"Test Size: \",x_test.shape[0])"
   ]
  },
  {
   "cell_type": "code",
   "execution_count": null,
   "id": "de532102",
   "metadata": {},
   "outputs": [],
   "source": []
  },
  {
   "cell_type": "markdown",
   "id": "2cd5e708",
   "metadata": {},
   "source": [
    "### b) K-Fold Cross Validation"
   ]
  },
  {
   "cell_type": "code",
   "execution_count": 20,
   "id": "f86642e7",
   "metadata": {},
   "outputs": [
    {
     "data": {
      "text/html": [
       "<div>\n",
       "<style scoped>\n",
       "    .dataframe tbody tr th:only-of-type {\n",
       "        vertical-align: middle;\n",
       "    }\n",
       "\n",
       "    .dataframe tbody tr th {\n",
       "        vertical-align: top;\n",
       "    }\n",
       "\n",
       "    .dataframe thead th {\n",
       "        text-align: right;\n",
       "    }\n",
       "</style>\n",
       "<table border=\"1\" class=\"dataframe\">\n",
       "  <thead>\n",
       "    <tr style=\"text-align: right;\">\n",
       "      <th></th>\n",
       "      <th>A</th>\n",
       "      <th>B</th>\n",
       "      <th>C</th>\n",
       "      <th>D</th>\n",
       "      <th>E</th>\n",
       "      <th>F</th>\n",
       "      <th>G</th>\n",
       "      <th>H</th>\n",
       "      <th>I</th>\n",
       "    </tr>\n",
       "  </thead>\n",
       "  <tbody>\n",
       "    <tr>\n",
       "      <th>0</th>\n",
       "      <td>64</td>\n",
       "      <td>46</td>\n",
       "      <td>28</td>\n",
       "      <td>7</td>\n",
       "      <td>88</td>\n",
       "      <td>28</td>\n",
       "      <td>74</td>\n",
       "      <td>5</td>\n",
       "      <td>15</td>\n",
       "    </tr>\n",
       "    <tr>\n",
       "      <th>1</th>\n",
       "      <td>28</td>\n",
       "      <td>91</td>\n",
       "      <td>16</td>\n",
       "      <td>43</td>\n",
       "      <td>94</td>\n",
       "      <td>87</td>\n",
       "      <td>44</td>\n",
       "      <td>10</td>\n",
       "      <td>77</td>\n",
       "    </tr>\n",
       "    <tr>\n",
       "      <th>2</th>\n",
       "      <td>30</td>\n",
       "      <td>6</td>\n",
       "      <td>56</td>\n",
       "      <td>51</td>\n",
       "      <td>13</td>\n",
       "      <td>59</td>\n",
       "      <td>17</td>\n",
       "      <td>32</td>\n",
       "      <td>40</td>\n",
       "    </tr>\n",
       "    <tr>\n",
       "      <th>3</th>\n",
       "      <td>20</td>\n",
       "      <td>51</td>\n",
       "      <td>46</td>\n",
       "      <td>87</td>\n",
       "      <td>70</td>\n",
       "      <td>81</td>\n",
       "      <td>67</td>\n",
       "      <td>91</td>\n",
       "      <td>56</td>\n",
       "    </tr>\n",
       "    <tr>\n",
       "      <th>4</th>\n",
       "      <td>91</td>\n",
       "      <td>20</td>\n",
       "      <td>46</td>\n",
       "      <td>42</td>\n",
       "      <td>76</td>\n",
       "      <td>98</td>\n",
       "      <td>78</td>\n",
       "      <td>78</td>\n",
       "      <td>67</td>\n",
       "    </tr>\n",
       "    <tr>\n",
       "      <th>...</th>\n",
       "      <td>...</td>\n",
       "      <td>...</td>\n",
       "      <td>...</td>\n",
       "      <td>...</td>\n",
       "      <td>...</td>\n",
       "      <td>...</td>\n",
       "      <td>...</td>\n",
       "      <td>...</td>\n",
       "      <td>...</td>\n",
       "    </tr>\n",
       "    <tr>\n",
       "      <th>95</th>\n",
       "      <td>57</td>\n",
       "      <td>21</td>\n",
       "      <td>57</td>\n",
       "      <td>25</td>\n",
       "      <td>5</td>\n",
       "      <td>58</td>\n",
       "      <td>89</td>\n",
       "      <td>85</td>\n",
       "      <td>78</td>\n",
       "    </tr>\n",
       "    <tr>\n",
       "      <th>96</th>\n",
       "      <td>24</td>\n",
       "      <td>23</td>\n",
       "      <td>78</td>\n",
       "      <td>45</td>\n",
       "      <td>90</td>\n",
       "      <td>96</td>\n",
       "      <td>27</td>\n",
       "      <td>60</td>\n",
       "      <td>27</td>\n",
       "    </tr>\n",
       "    <tr>\n",
       "      <th>97</th>\n",
       "      <td>72</td>\n",
       "      <td>4</td>\n",
       "      <td>96</td>\n",
       "      <td>48</td>\n",
       "      <td>43</td>\n",
       "      <td>72</td>\n",
       "      <td>32</td>\n",
       "      <td>44</td>\n",
       "      <td>59</td>\n",
       "    </tr>\n",
       "    <tr>\n",
       "      <th>98</th>\n",
       "      <td>99</td>\n",
       "      <td>69</td>\n",
       "      <td>95</td>\n",
       "      <td>43</td>\n",
       "      <td>95</td>\n",
       "      <td>6</td>\n",
       "      <td>85</td>\n",
       "      <td>19</td>\n",
       "      <td>23</td>\n",
       "    </tr>\n",
       "    <tr>\n",
       "      <th>99</th>\n",
       "      <td>82</td>\n",
       "      <td>9</td>\n",
       "      <td>73</td>\n",
       "      <td>34</td>\n",
       "      <td>27</td>\n",
       "      <td>50</td>\n",
       "      <td>2</td>\n",
       "      <td>42</td>\n",
       "      <td>48</td>\n",
       "    </tr>\n",
       "  </tbody>\n",
       "</table>\n",
       "<p>100 rows × 9 columns</p>\n",
       "</div>"
      ],
      "text/plain": [
       "     A   B   C   D   E   F   G   H   I\n",
       "0   64  46  28   7  88  28  74   5  15\n",
       "1   28  91  16  43  94  87  44  10  77\n",
       "2   30   6  56  51  13  59  17  32  40\n",
       "3   20  51  46  87  70  81  67  91  56\n",
       "4   91  20  46  42  76  98  78  78  67\n",
       "..  ..  ..  ..  ..  ..  ..  ..  ..  ..\n",
       "95  57  21  57  25   5  58  89  85  78\n",
       "96  24  23  78  45  90  96  27  60  27\n",
       "97  72   4  96  48  43  72  32  44  59\n",
       "98  99  69  95  43  95   6  85  19  23\n",
       "99  82   9  73  34  27  50   2  42  48\n",
       "\n",
       "[100 rows x 9 columns]"
      ]
     },
     "execution_count": 20,
     "metadata": {},
     "output_type": "execute_result"
    }
   ],
   "source": [
    "from sklearn.model_selection import KFold\n",
    "import random\n",
    "import numpy as np\n",
    "\n",
    "df = pd.DataFrame(np.random.randint(0,100,size=(100,9)),columns=['A','B','C','D','E','F','G','H','I'])\n",
    "df"
   ]
  },
  {
   "cell_type": "code",
   "execution_count": 31,
   "id": "d989fcfb",
   "metadata": {},
   "outputs": [],
   "source": [
    "cv = KFold(n_splits=10,random_state=1, shuffle=True)\n",
    "ans = next(cv.split(df),None)\n",
    "\n",
    "train = df.iloc[ans[0]]\n",
    "test = df.iloc[ans[1]]"
   ]
  },
  {
   "cell_type": "code",
   "execution_count": 36,
   "id": "337bbdbe",
   "metadata": {},
   "outputs": [
    {
     "name": "stdout",
     "output_type": "stream",
     "text": [
      "Train Size:  (90, 9)\n",
      "Test Size:  (10, 9)\n"
     ]
    }
   ],
   "source": [
    "print(\"Train Size: \",train.shape)\n",
    "print(\"Test Size: \",test.shape)"
   ]
  },
  {
   "cell_type": "markdown",
   "id": "5d78cf7b",
   "metadata": {},
   "source": [
    "### c) BootStrap Sampling\n",
    "\n",
    "[ref.](https://www.digitalocean.com/community/tutorials/bootstrap-sampling-in-python)"
   ]
  },
  {
   "cell_type": "code",
   "execution_count": 43,
   "id": "5a358070",
   "metadata": {},
   "outputs": [
    {
     "name": "stdout",
     "output_type": "stream",
     "text": [
      "Mean of Actual Data with 1K rows:  300.0298296538071\n",
      "Mean of sampled Data with 50 rows:  300.0023012474654\n"
     ]
    }
   ],
   "source": [
    "import random\n",
    "\n",
    "x = np.random.normal(loc= 300.0, size=1000)\n",
    "print(\"Mean of Actual Data with 1K rows: \",np.mean(x))\n",
    "\n",
    "#bootstrap SAmpling\n",
    "sample_mean = []\n",
    "for i in range(50):\n",
    "    y = random.sample(x.tolist(), 4)\n",
    "    avg = np.mean(y)\n",
    "    sample_mean.append(avg)\n",
    "\n",
    "# mean using bootstrap sampling\n",
    "print(\"Mean of sampled Data with 50 rows: \",np.mean(sample_mean))"
   ]
  },
  {
   "cell_type": "code",
   "execution_count": null,
   "id": "5e2aaaed",
   "metadata": {},
   "outputs": [],
   "source": []
  },
  {
   "cell_type": "markdown",
   "id": "70ea7eef",
   "metadata": {},
   "source": [
    "## 2. Implement kNN Algorithm using SciKit- Learn Library for the Data set - Wine data set. Find accuracy and display confusion matrix"
   ]
  },
  {
   "cell_type": "code",
   "execution_count": 4,
   "id": "e5d44dcd",
   "metadata": {},
   "outputs": [],
   "source": [
    "from sklearn.datasets import load_wine\n",
    "from sklearn.metrics import accuracy_score\n",
    "from sklearn.model_selection import train_test_split\n",
    "from sklearn.neighbors import KNeighborsClassifier\n",
    "from sklearn import metrics"
   ]
  },
  {
   "cell_type": "code",
   "execution_count": 53,
   "id": "6465596c",
   "metadata": {},
   "outputs": [
    {
     "name": "stdout",
     "output_type": "stream",
     "text": [
      "shape of the data:  (178, 13)\n"
     ]
    }
   ],
   "source": [
    "# load dataset\n",
    "dataset = load_wine()\n",
    "x = dataset['data']\n",
    "y = dataset['target']\n",
    "\n",
    "print(\"shape of the data: \",x.shape)"
   ]
  },
  {
   "cell_type": "code",
   "execution_count": 54,
   "id": "9412859b",
   "metadata": {},
   "outputs": [],
   "source": [
    "# train-test split\n",
    "x_train, x_test, y_train, y_test = train_test_split(x,y, test_size=0.2, random_state=0)"
   ]
  },
  {
   "cell_type": "code",
   "execution_count": 55,
   "id": "d4d22201",
   "metadata": {},
   "outputs": [],
   "source": [
    "k=3"
   ]
  },
  {
   "cell_type": "code",
   "execution_count": 56,
   "id": "5e51ed98",
   "metadata": {},
   "outputs": [
    {
     "data": {
      "text/plain": [
       "KNeighborsClassifier(n_neighbors=3)"
      ]
     },
     "execution_count": 56,
     "metadata": {},
     "output_type": "execute_result"
    }
   ],
   "source": [
    "# training\n",
    "knn = KNeighborsClassifier(n_neighbors=k)\n",
    "knn.fit(x_train, y_train)"
   ]
  },
  {
   "cell_type": "code",
   "execution_count": 60,
   "id": "c17256e7",
   "metadata": {},
   "outputs": [],
   "source": [
    "# validation against test set.\n",
    "y_pred = knn.predict(x_test)"
   ]
  },
  {
   "cell_type": "code",
   "execution_count": 61,
   "id": "b4810544",
   "metadata": {},
   "outputs": [
    {
     "data": {
      "text/plain": [
       "array([0, 2, 1, 0, 1, 1, 0, 2, 1, 1, 2, 2, 0, 1, 2, 1, 0, 0, 1, 0, 1, 0,\n",
       "       0, 1, 1, 1, 1, 1, 1, 2, 0, 0, 1, 0, 0, 0])"
      ]
     },
     "execution_count": 61,
     "metadata": {},
     "output_type": "execute_result"
    }
   ],
   "source": [
    "y_test"
   ]
  },
  {
   "cell_type": "code",
   "execution_count": 63,
   "id": "e79f3c8b",
   "metadata": {},
   "outputs": [
    {
     "name": "stdout",
     "output_type": "stream",
     "text": [
      "Model accuracy:  78.0\n"
     ]
    }
   ],
   "source": [
    "# measuring accuracy\n",
    "acc = metrics.accuracy_score(y_test,y_pred)\n",
    "print(\"Model accuracy: \",round(acc,2)*100)"
   ]
  },
  {
   "cell_type": "code",
   "execution_count": 64,
   "id": "a555fba4",
   "metadata": {},
   "outputs": [
    {
     "data": {
      "text/plain": [
       "array([[13,  0,  1],\n",
       "       [ 1, 13,  2],\n",
       "       [ 1,  3,  2]], dtype=int64)"
      ]
     },
     "execution_count": 64,
     "metadata": {},
     "output_type": "execute_result"
    }
   ],
   "source": [
    "# generate confusion matrix\n",
    "metrics.confusion_matrix(y_test, y_pred)"
   ]
  },
  {
   "cell_type": "code",
   "execution_count": null,
   "id": "e774e8f5",
   "metadata": {},
   "outputs": [],
   "source": []
  },
  {
   "cell_type": "markdown",
   "id": "3898ac4d",
   "metadata": {},
   "source": [
    "## 3. Implement Decision Tree Classifier for classification of Iris dataset\n",
    "\n",
    "a. Load the data set\n",
    "\n",
    "b. Split the data set (70:30) to train and test sets\n",
    "\n",
    "c. Train a Decision Tree using train set\n",
    "\n",
    "d. Test the model using test set.\n",
    "\n",
    "e. Find accuracy and confusion Matrix"
   ]
  },
  {
   "cell_type": "code",
   "execution_count": 2,
   "id": "916ca0d5",
   "metadata": {},
   "outputs": [],
   "source": [
    "import matplotlib.pyplot as plt\n",
    "from sklearn.tree import DecisionTreeClassifier\n",
    "from sklearn.model_selection import train_test_split\n",
    "from sklearn.metrics import confusion_matrix\n",
    "from sklearn import tree\n",
    "from sklearn.datasets import load_iris"
   ]
  },
  {
   "cell_type": "code",
   "execution_count": 6,
   "id": "2a0b724e",
   "metadata": {},
   "outputs": [],
   "source": [
    "df = load_iris()\n",
    "dataset = pd.DataFrame(df.data,columns=df.feature_names)\n",
    "dataset['target'] = df.target"
   ]
  },
  {
   "cell_type": "code",
   "execution_count": 7,
   "id": "7d0ffc8f",
   "metadata": {},
   "outputs": [],
   "source": [
    "x = dataset.drop(columns=['target'])\n",
    "y = dataset.target"
   ]
  },
  {
   "cell_type": "code",
   "execution_count": 8,
   "id": "e42cd886",
   "metadata": {},
   "outputs": [],
   "source": [
    "# train-test split\n",
    "x_train, x_test, y_train, y_test = train_test_split(x,y,test_size=0.2,random_state=0)"
   ]
  },
  {
   "cell_type": "code",
   "execution_count": 9,
   "id": "e14b8bdb",
   "metadata": {},
   "outputs": [
    {
     "data": {
      "text/plain": [
       "DecisionTreeClassifier(criterion='entropy')"
      ]
     },
     "execution_count": 9,
     "metadata": {},
     "output_type": "execute_result"
    }
   ],
   "source": [
    "# model training\n",
    "classifier = DecisionTreeClassifier(criterion='entropy')\n",
    "classifier.fit(x_train,y_train)"
   ]
  },
  {
   "cell_type": "code",
   "execution_count": 10,
   "id": "5e07acd9",
   "metadata": {},
   "outputs": [],
   "source": [
    "# model validation against test set\n",
    "y_pred = classifier.predict(x_test)"
   ]
  },
  {
   "cell_type": "code",
   "execution_count": 11,
   "id": "ff2f251d",
   "metadata": {},
   "outputs": [
    {
     "name": "stdout",
     "output_type": "stream",
     "text": [
      "Model Accuracy:  100.0\n"
     ]
    }
   ],
   "source": [
    "# accuracy measurement\n",
    "acc = metrics.accuracy_score(y_test,y_pred)\n",
    "print(\"Model Accuracy: \",round(acc,2)*100)"
   ]
  },
  {
   "cell_type": "code",
   "execution_count": 12,
   "id": "d5801fc7",
   "metadata": {},
   "outputs": [
    {
     "data": {
      "text/plain": [
       "array([2, 1, 0, 2, 0, 2, 0, 1, 1, 1, 2, 1, 1, 1, 1, 0, 1, 1, 0, 0, 2, 1,\n",
       "       0, 0, 2, 0, 0, 1, 1, 0])"
      ]
     },
     "execution_count": 12,
     "metadata": {},
     "output_type": "execute_result"
    }
   ],
   "source": [
    "y_pred"
   ]
  },
  {
   "cell_type": "code",
   "execution_count": 14,
   "id": "2ed4794e",
   "metadata": {},
   "outputs": [
    {
     "data": {
      "text/plain": [
       "114    2\n",
       "62     1\n",
       "33     0\n",
       "Name: target, dtype: int32"
      ]
     },
     "execution_count": 14,
     "metadata": {},
     "output_type": "execute_result"
    }
   ],
   "source": [
    "y_test.head(3)"
   ]
  },
  {
   "cell_type": "markdown",
   "id": "77dc32f6",
   "metadata": {},
   "source": [
    "## 4 Implement SVM Classification Algorithm for the DataSet Breast Cancer"
   ]
  },
  {
   "cell_type": "code",
   "execution_count": 102,
   "id": "96497005",
   "metadata": {},
   "outputs": [],
   "source": [
    "from sklearn.datasets import load_breast_cancer\n",
    "from sklearn.model_selection import train_test_split\n",
    "from sklearn.preprocessing import StandardScaler\n",
    "from sklearn.svm import SVC"
   ]
  },
  {
   "cell_type": "code",
   "execution_count": 112,
   "id": "22ec8d2d",
   "metadata": {},
   "outputs": [],
   "source": [
    "df = load_breast_cancer()"
   ]
  },
  {
   "cell_type": "code",
   "execution_count": 119,
   "id": "59e3119d",
   "metadata": {},
   "outputs": [
    {
     "name": "stdout",
     "output_type": "stream",
     "text": [
      "Dataset shape:  (569, 30)\n"
     ]
    }
   ],
   "source": [
    "dataset = df.data\n",
    "dataset = pd.DataFrame(dataset,columns=df.feature_names)\n",
    "print(\"Dataset shape: \",dataset.shape)"
   ]
  },
  {
   "cell_type": "code",
   "execution_count": 121,
   "id": "6f218041",
   "metadata": {},
   "outputs": [],
   "source": [
    "x = dataset\n",
    "y = df.target"
   ]
  },
  {
   "cell_type": "code",
   "execution_count": 122,
   "id": "ec06f2a7",
   "metadata": {},
   "outputs": [],
   "source": [
    "# splitting data into train and test\n",
    "x_train,x_test,y_train,y_test = train_test_split(x,y,test_size=0.2,random_state=0)"
   ]
  },
  {
   "cell_type": "code",
   "execution_count": 123,
   "id": "26d929da",
   "metadata": {},
   "outputs": [],
   "source": [
    "# Algorithm Implementation\n",
    "classifier = SVC(kernel='linear', random_state=0)"
   ]
  },
  {
   "cell_type": "code",
   "execution_count": 124,
   "id": "e389f785",
   "metadata": {},
   "outputs": [
    {
     "data": {
      "text/plain": [
       "SVC(kernel='linear', random_state=0)"
      ]
     },
     "execution_count": 124,
     "metadata": {},
     "output_type": "execute_result"
    }
   ],
   "source": [
    "classifier.fit(x_train,y_train)"
   ]
  },
  {
   "cell_type": "code",
   "execution_count": 125,
   "id": "45a5743a",
   "metadata": {},
   "outputs": [],
   "source": [
    "y_pred = classifier.predict(x_test)"
   ]
  },
  {
   "cell_type": "code",
   "execution_count": 130,
   "id": "b859598b",
   "metadata": {},
   "outputs": [
    {
     "name": "stdout",
     "output_type": "stream",
     "text": [
      "------- Confusion Metrix ------- \n",
      "[[46  1]\n",
      " [ 4 63]]\n",
      "\n",
      "------- Accuracy Score -------\n",
      "95.61 %\n"
     ]
    }
   ],
   "source": [
    "# Defining Accuracy using confusion metrix\n",
    "from sklearn.metrics import confusion_matrix\n",
    "cm = confusion_matrix(y_test, y_pred)\n",
    "print(\"------- Confusion Metrix ------- \")\n",
    "print(cm)\n",
    "\n",
    "# Definng Accuracy using accuracy Score\n",
    "from sklearn.metrics import accuracy_score\n",
    "accuracy = accuracy_score(y_pred,y_test)\n",
    "print(\"\\n------- Accuracy Score -------\")\n",
    "print(round(accuracy*100,2),\"%\")"
   ]
  },
  {
   "cell_type": "code",
   "execution_count": null,
   "id": "317fadb0",
   "metadata": {},
   "outputs": [],
   "source": []
  }
 ],
 "metadata": {
  "kernelspec": {
   "display_name": "Python 3",
   "language": "python",
   "name": "python3"
  },
  "language_info": {
   "codemirror_mode": {
    "name": "ipython",
    "version": 3
   },
   "file_extension": ".py",
   "mimetype": "text/x-python",
   "name": "python",
   "nbconvert_exporter": "python",
   "pygments_lexer": "ipython3",
   "version": "3.8.8"
  }
 },
 "nbformat": 4,
 "nbformat_minor": 5
}
